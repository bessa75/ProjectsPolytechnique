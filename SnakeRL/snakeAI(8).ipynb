{
  "cells": [
    {
      "cell_type": "markdown",
      "metadata": {
        "id": "Qe0GK3EsF-sv"
      },
      "source": [
        "# Snake AI Game with RL"
      ]
    },
    {
      "cell_type": "markdown",
      "metadata": {
        "id": "41BdtsKGF-s1"
      },
      "source": [
        "## Imports"
      ]
    },
    {
      "cell_type": "code",
      "execution_count": null,
      "metadata": {
        "colab": {
          "base_uri": "https://localhost:8080/"
        },
        "id": "CONpsJHrF-s2",
        "outputId": "b1e1efe1-d91b-462c-cef9-0a91eac27d40"
      },
      "outputs": [
        {
          "output_type": "stream",
          "name": "stdout",
          "text": [
            "Requirement already satisfied: imageio in /usr/local/lib/python3.10/dist-packages (2.31.6)\n",
            "Requirement already satisfied: numpy in /usr/local/lib/python3.10/dist-packages (from imageio) (1.25.2)\n",
            "Requirement already satisfied: pillow<10.1.0,>=8.3.2 in /usr/local/lib/python3.10/dist-packages (from imageio) (9.4.0)\n"
          ]
        }
      ],
      "source": [
        "!pip install imageio\n",
        "import numpy as np\n",
        "import matplotlib.pyplot as plt\n",
        "import imageio\n",
        "import io\n",
        "from IPython.display import Image"
      ]
    },
    {
      "cell_type": "markdown",
      "metadata": {
        "id": "omtF8xfaF-s4"
      },
      "source": [
        "## Global variables"
      ]
    },
    {
      "cell_type": "code",
      "execution_count": null,
      "metadata": {
        "id": "cSgn9nSUF-s5"
      },
      "outputs": [],
      "source": [
        "DIRECTIONS = [\"RIGHT\",\"DOWN\", \"LEFT\", \"UP\"]\n",
        "ACTIONS = {\n",
        "    \"STRAIGHT\": [1,0,0],\n",
        "    \"RIGHT\": [0,1,0],\n",
        "    \"LEFT\": [0,0,1]\n",
        "}"
      ]
    },
    {
      "cell_type": "markdown",
      "metadata": {
        "id": "bcnnmlezF-s6"
      },
      "source": [
        "**Note**: `DIRECTIONS` are considered from an external viewpoint (the player's). `ACTIONS` on the other hand are taken from the snake's perspecive. If the snake was going (i.e. had overall orientation) RIGHT and takes as next **action** to keep going RIGHT, its new overall orientation will be DOWN at the following time step."
      ]
    },
    {
      "cell_type": "markdown",
      "metadata": {
        "id": "wfnQcgXyF-s7"
      },
      "source": [
        "## Environment"
      ]
    },
    {
      "cell_type": "markdown",
      "metadata": {
        "id": "3Mw2pt-rF-s7"
      },
      "source": [
        "The snake's playground (`grid`) is a 2D array of dimension `(n_rows,n_cols)`.\n",
        "For a given set of coordinates `(x,y)`, we would access the corresponding point in `grid`, with `grid[x][y]` (as expected). The environment is originally inspired from (https://www.kaggle.com/code/stefancomanita/snake-game-ai-with-reinforcement-learning#The-Trainner), but we overhauled it to fit the data structures we used as inputs to our models."
      ]
    },
    {
      "cell_type": "code",
      "execution_count": null,
      "metadata": {
        "id": "mJjhnwhwF-s8"
      },
      "outputs": [],
      "source": [
        "class SnakeGameAI:\n",
        "\n",
        "    def __init__(self,n_rows = 8,n_cols = 8,iteration_max = 100,reward_food = 1,penalty_collision = 0, nb_steps_penalty=20,inactivity_penalty=0,bool_time_penalty=True,reward_type = \"standard\"):\n",
        "        #reward_food : reward for eating a fruit\n",
        "        #penalty_collision : penalty when a collision arises\n",
        "        #nb_steps_penalty : number of steps without a fruit eaten before a penalty is applied\n",
        "        #inactivity_penalty : penalty applied after nb_steps_penalty without eating a fruit\n",
        "        #Attention : pour toute variable écrite, bien la réécrire dans reset\n",
        "        self.n_rows = n_rows\n",
        "        self.n_cols = n_cols\n",
        "        self.iteration_max = iteration_max\n",
        "        self.reward_food = reward_food\n",
        "        self.penalty_collision = penalty_collision\n",
        "        self.nb_steps_penalty=nb_steps_penalty\n",
        "        self.inactivity_penalty=inactivity_penalty\n",
        "        self.iterations_without_fruit=0\n",
        "        self.bool_time_penalty=bool_time_penalty\n",
        "        self.fruits=0\n",
        "        self.reward_type = reward_type\n",
        "        self.reset()\n",
        "\n",
        "    def reset(self):\n",
        "        # init game state\n",
        "        self.direction = \"DOWN\"\n",
        "        self.direction_dic={\"RIGHT\" : 2, \"UP\" : 3, \"LEFT\" : 4, \"DOWN\":5}\n",
        "        self.iteration = 0\n",
        "        self.iterations_without_fruit=0\n",
        "        self.head = (self.n_rows//2, self.n_cols//2)\n",
        "        self.snake = [self.head,\n",
        "                      (self.head[0]-1, self.head[1]),\n",
        "                      (self.head[0]-2, self.head[1])]\n",
        "\n",
        "        self.score = 0\n",
        "        self.food = None\n",
        "        self.place_food()\n",
        "        self.fruits=0\n",
        "        self.reset_board()\n",
        "\n",
        "    def reset_board(self):\n",
        "        self.board=torch.zeros((2,self.n_rows,self.n_cols),dtype=torch.long)\n",
        "        self.board[1][self.food]=1\n",
        "        for (x,y) in self.snake:\n",
        "          self.board[0][x,y] = 1\n",
        "        self.board[0][self.head]=-1\n",
        "\n",
        "    def place_food(self):\n",
        "        x = np.random.randint(0, self.n_rows)\n",
        "        y = np.random.randint(0, self.n_cols)\n",
        "        self.food = (x, y)\n",
        "        if self.food in self.snake:\n",
        "            self.place_food()\n",
        "\n",
        "    def step(self,action): #action in format [straight, right, left]\n",
        "        self.iteration += 1\n",
        "        self.iterations_without_fruit+=1\n",
        "        # 1. move\n",
        "        x_food, y_food = self.food\n",
        "        initial_head=self.head\n",
        "        self.move(action)\n",
        "        final_head=self.head\n",
        "        reward = 0\n",
        "        game_over = False\n",
        "\n",
        "        # 1 : penalize if the snake doesn't eat fruit for too long\n",
        "        if self.bool_time_penalty:\n",
        "          if self.iterations_without_fruit%self.nb_steps_penalty==0:\n",
        "            reward-=self.inactivity_penalty\n",
        "            self.score-=self.inactivity_penalty\n",
        "        # 2. check if game over by collision\n",
        "        if self.is_collision():\n",
        "            reward = -self.penalty_collision\n",
        "            self.score -= self.penalty_collision\n",
        "            game_over = True\n",
        "\n",
        "        # 3. check if game finished\n",
        "        if self.iteration > self.iteration_max:\n",
        "            game_over = True\n",
        "\n",
        "        #4. move snake\n",
        "        if self.head == self.food:\n",
        "          self.board[1][self.food]=0\n",
        "          reward = self.reward_food\n",
        "          self.score += self.reward_food\n",
        "          self.place_food()\n",
        "          self.board[1][self.food]=1\n",
        "          self.iterations_without_fruit=0\n",
        "          self.fruits=self.fruits+1\n",
        "        else:\n",
        "            self.board[0][self.snake[-1]]=0\n",
        "            self.snake.pop()\n",
        "            if self.reward_type == \"log_dist\":\n",
        "              init_dist_to_food = np.sqrt((initial_head[0]-x_food)**2 + (initial_head[1]-y_food)**2)\n",
        "              new_dist_to_food = np.sqrt((final_head[0]-x_food)**2 + (final_head[1]-y_food)**2)\n",
        "              self.score += np.log((len(self.snake)+init_dist_to_food)/(len(self.snake)+new_dist_to_food))/np.log(len(self.snake))\n",
        "\n",
        "\n",
        "        return reward, game_over, self.score\n",
        "\n",
        "    def is_collision(self,point = None): #check if snake collides with itself or the wall\n",
        "        if point is None:\n",
        "            point = self.head\n",
        "        if point[0] >= self.n_rows or point[0] < 0:\n",
        "          return True\n",
        "        if point[1] >= self.n_cols or point[1] < 0:\n",
        "          return True\n",
        "        if point in self.snake[1:]:\n",
        "          return True\n",
        "\n",
        "        return False\n",
        "\n",
        "    def move(self,action): #action  is in format [straigth, right, left]\n",
        "        current_directions_index = DIRECTIONS.index(self.direction)\n",
        "        new_direction = self.direction #go straight\n",
        "\n",
        "        if np.array_equal(action,ACTIONS[\"RIGHT\"]): #change if move right\n",
        "            new_direction = DIRECTIONS[(current_directions_index + 1)%4]\n",
        "\n",
        "        elif np.array_equal(action, ACTIONS[\"LEFT\"]): #change if move left\n",
        "            new_direction = DIRECTIONS[(current_directions_index- 1)%4]\n",
        "\n",
        "        self.direction = new_direction\n",
        "\n",
        "        x = self.head[0]\n",
        "        y = self.head[1]\n",
        "        if 0<=x<self.n_rows and 0<=y<self.n_cols:\n",
        "          self.board[0][x,y]=1\n",
        "        if self.direction == \"RIGHT\":\n",
        "            y+= 1\n",
        "        elif self.direction == \"LEFT\":\n",
        "            y-= 1\n",
        "        elif self.direction == \"DOWN\":\n",
        "            x += 1\n",
        "        elif self.direction == \"UP\":\n",
        "            x -= 1\n",
        "        self.head = (x,y)\n",
        "        if 0<=x<self.n_rows and 0<=y<self.n_cols:\n",
        "          self.board[0][x,y]=-1\n",
        "        if not self.is_collision():\n",
        "            self.snake.insert(0,self.head)\n",
        "\n",
        "    def get_grid(self):\n",
        "        grid = np.zeros((self.n_rows, self.n_cols))\n",
        "        for (x,y) in self.snake:\n",
        "            grid[x,y] = 1\n",
        "        x,y = self.food\n",
        "        grid[x,y] = 2\n",
        "        return grid\n"
      ]
    },
    {
      "cell_type": "markdown",
      "metadata": {
        "id": "TcBTxkfVF-s_"
      },
      "source": [
        "## Visualizations"
      ]
    },
    {
      "cell_type": "code",
      "execution_count": null,
      "metadata": {
        "id": "Cvu5fnjKF-tA"
      },
      "outputs": [],
      "source": [
        "def plot_grid(grid,show=False):\n",
        "    \"\"\"\n",
        "    Plot a single grid frame and return it as an image array.\n",
        "    - Gray for empty cells (0)\n",
        "    - Blue for snake cells (1)\n",
        "    - Red for food cells (2)\n",
        "    \"\"\"\n",
        "    # Define the color map and the normalization\n",
        "    cmap = plt.cm.colors.ListedColormap(['gray', 'blue', 'red'])\n",
        "    norm = plt.cm.colors.BoundaryNorm([-1, 0.5, 1.5, 2.5], cmap.N)\n",
        "\n",
        "    # Plot the grid\n",
        "    fig, ax = plt.subplots(figsize=(5, 5))\n",
        "    ax.imshow(grid, cmap=cmap, norm=norm,extent=[0,grid.shape[1],0,grid.shape[0]])\n",
        "    # Remove axes\n",
        "    # ax.axis('off')\n",
        "    ax.grid(True)\n",
        "    if show:\n",
        "      plt.show()\n",
        "    # Save the figure to a buffer\n",
        "    buf = io.BytesIO()\n",
        "    plt.savefig(buf, format='png')\n",
        "    plt.close(fig)\n",
        "    buf.seek(0)\n",
        "    # Read the image from the buffer and return it\n",
        "    return imageio.v2.imread(buf)\n",
        "\n",
        "def grids_to_gif(grids, gif_filename):\n",
        "    \"\"\"\n",
        "    Convert a list of grids into a GIF file.\n",
        "    \"\"\"\n",
        "    images = [plot_grid(grid) for grid in grids]\n",
        "    imageio.mimsave(gif_filename, images, fps=2)"
      ]
    },
    {
      "cell_type": "markdown",
      "metadata": {
        "id": "e1RN09n5F-tC"
      },
      "source": [
        "## Trainer"
      ]
    },
    {
      "cell_type": "code",
      "execution_count": null,
      "metadata": {
        "id": "H1BqDZCQXyKv"
      },
      "outputs": [],
      "source": [
        "from pickle import FALSE\n",
        "import torch\n",
        "import torch.nn as nn\n",
        "import torch.optim as optim\n",
        "import torch.nn.functional as F\n",
        "\n",
        "class QTrainner:\n",
        "\n",
        "    def __init__(self, model,target, lr, gamma, state_type):\n",
        "        self.model = model\n",
        "        self.target=target\n",
        "        self.lr = lr\n",
        "        self.gamma = gamma\n",
        "        self.state_type=state_type\n",
        "        self.optimizer = optim.Adam(model.parameters(), self.lr)\n",
        "        self.lossFunction = nn.MSELoss()\n",
        "\n",
        "    def trainStep(self, state, action, reward, newState, done):\n",
        "        boolTuple=False\n",
        "        if self.state_type==2:\n",
        "          if isinstance(state,tuple):\n",
        "            boolTuple=True\n",
        "            stateTensor=torch.stack(state)\n",
        "            newStateTensor=torch.stack(newState)\n",
        "          else:\n",
        "            stateTensor = state\n",
        "            newStateTensor = newState\n",
        "        if self.state_type==1:\n",
        "          stateTensor = torch.tensor(state, dtype=torch.float)\n",
        "          newStateTensor = torch.tensor(newState, dtype=torch.float)\n",
        "        actionTensor = torch.tensor(action, dtype=torch.long)\n",
        "        rewardTensor = torch.tensor(reward, dtype=torch.float)\n",
        "        if self.state_type==1:\n",
        "          if len(stateTensor.shape) == 1:\n",
        "              stateTensor = torch.unsqueeze(stateTensor, 0)\n",
        "              newStateTensor = torch.unsqueeze(newStateTensor, 0)\n",
        "              actionTensor = torch.unsqueeze(actionTensor, 0)\n",
        "              rewardTensor = torch.unsqueeze(rewardTensor, 0)\n",
        "              done = (done, )\n",
        "        else:\n",
        "          if (not boolTuple) and len(stateTensor.shape)==2:\n",
        "            stateTensor = torch.unsqueeze(stateTensor, 0)\n",
        "            newStateTensor = torch.unsqueeze(newStateTensor, 0)\n",
        "            actionTensor = torch.unsqueeze(actionTensor, 0)\n",
        "            rewardTensor = torch.unsqueeze(rewardTensor, 0)\n",
        "            done = (done, )\n",
        "        # 1. predicted q values with current state\n",
        "        prediction = self.model(stateTensor.to(device))\n",
        "        current=self.target(newStateTensor.to(device))\n",
        "        # 2. Q_new = reward + gamma * max(next predicted q value) -> only do this if not done\n",
        "        target = prediction.clone()\n",
        "        Y=torch.zeros(len(done))\n",
        "        Yc=torch.zeros(len(done))\n",
        "        for i in range(len(done)):\n",
        "            Qnew = rewardTensor[i]\n",
        "            if not done[i]:\n",
        "                Qnew = rewardTensor[i] + self.gamma * torch.max(current[i])\n",
        "            Y[i]=Qnew\n",
        "            act=action[i].index(1)\n",
        "            Yc[i]=prediction[i][act]\n",
        "        self.optimizer.zero_grad()\n",
        "        loss = self.lossFunction(Y, Yc)\n",
        "        loss.backward()\n",
        "\n",
        "        self.optimizer.step()"
      ]
    },
    {
      "cell_type": "markdown",
      "source": [
        "## Neural networks"
      ],
      "metadata": {
        "id": "ALAPOZ-TvOfW"
      }
    },
    {
      "cell_type": "code",
      "execution_count": null,
      "metadata": {
        "id": "eEOH2vHjbL2N"
      },
      "outputs": [],
      "source": [
        "import torch\n",
        "import torch.nn as nn\n",
        "import torch.optim as optim\n",
        "import torch.nn.functional as F\n",
        "\n",
        "class LinearQNet(nn.Module):\n",
        "#Réseau de neurones linéaire classique\n",
        "    def __init__(self, inputSize, hiddenSize):\n",
        "        super().__init__()\n",
        "\n",
        "        self.linear1 = nn.Linear(inputSize, hiddenSize)\n",
        "        self.linear2 = nn.Linear(hiddenSize, 3)\n",
        "\n",
        "    def forward(self, X):\n",
        "        out = self.linear1(X)\n",
        "        out = F.relu(out)\n",
        "        out = self.linear2(out)\n",
        "\n",
        "        return out\n",
        "\n",
        "class ConvQNet(nn.Module):\n",
        "#Réseau convolutionnel avec un embedding\n",
        "    def __init__(self,n_rows,n_cols,embed_dim=3,state_type=1):\n",
        "        super(ConvQNet, self).__init__()\n",
        "        self.state_type=state_type\n",
        "        self.conv1 = nn.Conv2d(in_channels=1, out_channels=16, kernel_size=(3,3), stride=1, padding='same')\n",
        "        self.conv2 = nn.Conv2d(in_channels=16, out_channels=32, kernel_size=(3,3), stride=1, padding='same')\n",
        "        self.conv3 = nn.Conv2d(in_channels=32, out_channels=64, kernel_size=(6,6), stride=1, padding='same')\n",
        "        self.dense = nn.Linear(in_features=64*n_rows*n_cols, out_features=256)\n",
        "        self.dense2 = nn.Linear(in_features=256, out_features=3)\n",
        "    def forward(self, x):\n",
        "\n",
        "        if len(x.shape)==2:\n",
        "          x=torch.unsqueeze(x,0)\n",
        "        x = F.relu(self.conv1(x))\n",
        "        x = F.relu(self.conv2(x))\n",
        "        x = F.relu(self.conv3(x))\n",
        "        x = torch.flatten(x, 1)\n",
        "        x = F.relu(self.dense(x))\n",
        "        x=self.dense2(x)\n",
        "\n",
        "        return x\n",
        "class ConvQNet2(nn.Module):\n",
        "#Réseau convolutionnel simplifié sans embedding et avec une couche en moins\n",
        "    def __init__(self,n_rows,n_cols,hidden_dim=512,nb_channels=16):\n",
        "        super(ConvQNet2, self).__init__()\n",
        "        # Define the first convolutional layer\n",
        "        self.conv1 = nn.Conv2d(in_channels=2, out_channels=nb_channels, kernel_size=(2,2), stride=1, padding='same')\n",
        "        # Define the second convolutional layer\n",
        "        self.conv2 = nn.Conv2d(in_channels=nb_channels, out_channels=nb_channels*2, kernel_size=(2,2), stride=1, padding='same')\n",
        "        # Define the third convolutional layer\n",
        "        # Flatten the tensor for the dense layer\n",
        "        # No specific layer is required for flattening; it will be done in the forward method\n",
        "        # Define the dense layer\n",
        "        self.dense1 = nn.Linear(in_features=nb_channels*2*n_rows*n_cols, out_features=hidden_dim)  # Adjust in_features based on the output of the last conv layer\n",
        "        self.dense2=nn.Linear(in_features=hidden_dim, out_features=3)\n",
        "\n",
        "    def forward(self, x):\n",
        "        if len(x.shape)==2:\n",
        "          x=torch.unsqueeze(torch.unsqueeze(x,0),0)\n",
        "        if len(x.shape)==3:\n",
        "          x=torch.unsqueeze(x,1)\n",
        "        x=x.float()\n",
        "        # Apply the first convolutional layer followed by ReLU activation function\n",
        "        x = F.relu(self.conv1(x))\n",
        "        # Apply the second convolutional layer followed by ReLU activation function\n",
        "        x = F.relu(self.conv2(x))\n",
        "        # Flatten the output for the dense layer\n",
        "        x = torch.flatten(x, 1)  # Flatten all dimensions except batch\n",
        "        # Apply the dense layer followed by ReLU activation function\n",
        "        x = F.relu(self.dense1(x))\n",
        "        x=self.dense2(x)\n",
        "        return x\n",
        "class MLPGrid(nn.Module):\n",
        "#Réseau convolutionnel simplifié sans embedding et avec une couche en moins\n",
        "    def __init__(self,n_rows,n_cols):\n",
        "        super(MLPGrid, self).__init__()\n",
        "        # Define the first convolutional layer\n",
        "        self.dense1=nn.Linear(in_features=n_rows*n_cols*2,out_features=512)\n",
        "        # Define the third convolutional layer\n",
        "        # Flatten the tensor for the dense layer\n",
        "        # No specific layer is required for flattening; it will be done in the forward method\n",
        "        # Define the dense layer\n",
        "        self.dense2 = nn.Linear(in_features=512, out_features=512)  # Adjust in_features based on the output of the last conv layer\n",
        "        self.dense3 = nn.Linear(in_features=512, out_features=3)\n",
        "\n",
        "    def forward(self, x):\n",
        "        if len(x.shape)==2:\n",
        "          x=torch.unsqueeze(torch.unsqueeze(x,0),0)\n",
        "        if len(x.shape)==3:\n",
        "          x=torch.unsqueeze(x,1)\n",
        "        x=x.float()\n",
        "        x = torch.flatten(x, 1)  # Flatten all dimensions except batch\n",
        "        # Apply the dense layer followed by ReLU activation function\n",
        "        x = F.relu(self.dense1(x))\n",
        "        x=F.relu(self.dense2(x))\n",
        "        x=self.dense3(x)\n",
        "        return x"
      ]
    },
    {
      "cell_type": "markdown",
      "source": [
        "## Deep-Q-Learning Agent"
      ],
      "metadata": {
        "id": "VqZIOybrvRR6"
      }
    },
    {
      "cell_type": "code",
      "execution_count": null,
      "metadata": {
        "id": "Za_Qgod-YDEc"
      },
      "outputs": [],
      "source": [
        "import torch\n",
        "import random\n",
        "import numpy as np\n",
        "from collections import deque\n",
        "\n",
        "MAX_MEMORY = 100_000\n",
        "BATCH_SIZE = 1000\n",
        "LR = 0.001\n",
        "\n",
        "class Agent:\n",
        "    def __init__(self,lr,batch_size,max_mem,gamma,epsilon,target,custom_model=None,state_type=1):\n",
        "        self.numberOfGames = 0\n",
        "        # controls randomness\n",
        "        self.epsilon = epsilon\n",
        "        # discount rate\n",
        "        self.gamma = gamma\n",
        "        self.batch_size=batch_size\n",
        "        # the last actions, if we reach the limit we will remove the oldest\n",
        "        self.memory = deque(maxlen=max_mem)\n",
        "        self.state_type=state_type\n",
        "\n",
        "        # the modelneeds to have 11 inputs, as our world status grid has 11 elements and the output is 3, as we have 3 directions\n",
        "        if custom_model is None:\n",
        "          self.model = LinearQNet(11, 256)\n",
        "        else:\n",
        "          self.model=custom_model\n",
        "        self.target=target\n",
        "        self.trainner = QTrainner(self.model,self.target, lr=lr, gamma=self.gamma,state_type=state_type)\n",
        "        self.update_target()\n",
        "\n",
        "    # this gives us the state of the world\n",
        "    def update_target(self):\n",
        "      with torch.no_grad():\n",
        "        for source_param, target_param in zip(self.model.parameters(), self.target.parameters()):\n",
        "            target_param.copy_(source_param)\n",
        "    def getState(self, game):\n",
        "        head = game.head\n",
        "\n",
        "        point_left = (head[0] - 1, head[1])\n",
        "        point_right = (head[0] + 1, head[1])\n",
        "        point_up = (head[0], head[1] - 1)\n",
        "        point_down = (head[0], head[1] + 1)\n",
        "\n",
        "        direction_left = game.direction == \"LEFT\"\n",
        "        direction_right = game.direction == \"RIGHT\"\n",
        "        direction_up = game.direction == \"UP\"\n",
        "        direction_down = game.direction == \"DOWN\"\n",
        "\n",
        "        state = [\n",
        "            # Danger straight\n",
        "            (direction_right and game.is_collision(point_right)) or\n",
        "            (direction_left and game.is_collision(point_left)) or\n",
        "            (direction_up and game.is_collision(point_up)) or\n",
        "            (direction_down and game.is_collision(point_down)),\n",
        "\n",
        "            # Danger right\n",
        "            (direction_up and game.is_collision(point_right)) or\n",
        "            (direction_down and game.is_collision(point_left)) or\n",
        "            (direction_left and game.is_collision(point_up)) or\n",
        "            (direction_right and game.is_collision(point_down)),\n",
        "\n",
        "            # Danger left\n",
        "            (direction_down and game.is_collision(point_right)) or\n",
        "            (direction_up and game.is_collision(point_left)) or\n",
        "            (direction_right and game.is_collision(point_up)) or\n",
        "            (direction_left and game.is_collision(point_down)),\n",
        "\n",
        "            # Move direction\n",
        "            direction_left,\n",
        "            direction_right,\n",
        "            direction_up,\n",
        "            direction_down,\n",
        "\n",
        "            # Food location\n",
        "            game.food[0] < game.head[0],  # food left\n",
        "            game.food[0] > game.head[0],  # food right\n",
        "            game.food[1] < game.head[1],  # food up\n",
        "            game.food[1] > game.head[1]  # food down\n",
        "        ]\n",
        "\n",
        "        return np.array(state, dtype=int)\n",
        "    def getState2(self, game):\n",
        "      ''' returns the game board with 2 channels:\n",
        "      - one to locate the snake's body on the grid (-1 for the head, 1 for the body, 0 elsewhere)\n",
        "      - one to locate the food on the grid (1 for the food, 0 elsewhere)\n",
        "      '''\n",
        "      return(game.board)\n",
        "    def remember(self, state, action, reward, nextState, done):\n",
        "        self.memory.append((state, action, reward, nextState, done))\n",
        "\n",
        "    def trainLongMemory(self):\n",
        "        if len(self.memory) < self.batch_size:\n",
        "            sample = self.memory\n",
        "        else:\n",
        "            sample = random.sample(self.memory, self.batch_size)\n",
        "\n",
        "        states, actions, rewards, nextStates, dones = zip(*sample)\n",
        "        self.trainner.trainStep(states, actions, rewards, nextStates, dones)\n",
        "\n",
        "    def trainShortMemory(self, state, action, reward, nextState, done):\n",
        "      self.trainner.trainStep(state, action, reward, nextState, done)\n",
        "\n",
        "    def getAction(self, state,test_loss=False):\n",
        "        # in the beginning will do some random moves, tradeoff between exploration and exploataition\n",
        "        finalMove = [0, 0, 0]\n",
        "\n",
        "        if random.random() < self.epsilon and test_loss==False:\n",
        "            move = random.randint(0, 2)\n",
        "            finalMove[move] = 1\n",
        "        else:\n",
        "            if self.state_type==1:\n",
        "              stateTensor = torch.tensor(state,dtype=torch.float)\n",
        "            if self.state_type==2:\n",
        "              stateTensor=state\n",
        "            prediction = self.model(torch.unsqueeze(stateTensor,0).to(device))\n",
        "            move = torch.argmax(prediction).item()\n",
        "            finalMove[move] = 1\n",
        "        return finalMove"
      ]
    },
    {
      "cell_type": "code",
      "execution_count": null,
      "metadata": {
        "colab": {
          "base_uri": "https://localhost:8080/"
        },
        "id": "cgxHQv7JxHUh",
        "outputId": "0edfc0cb-64d7-4090-d295-8d80887ae39f"
      },
      "outputs": [
        {
          "output_type": "stream",
          "name": "stdout",
          "text": [
            "PyTorch will train neural networks on cuda\n"
          ]
        }
      ],
      "source": [
        "device = torch.device(\"cuda\" if torch.cuda.is_available() else \"cpu\")\n",
        "print(f\"PyTorch will train neural networks on {device}\")"
      ]
    },
    {
      "cell_type": "markdown",
      "source": [
        "## Initialization of the agent"
      ],
      "metadata": {
        "id": "zULH2MO5vaS8"
      }
    },
    {
      "cell_type": "code",
      "execution_count": null,
      "metadata": {
        "id": "M6qhD0kndRPb"
      },
      "outputs": [],
      "source": [
        "#Option classique : réseau linéaire, avec état simple (fonction \"getState\") qui fonctionne environ après 200 jeux\n",
        "#model1=LinearQNet(11,256).to(device)\n",
        "#model2=LinearQNet(11,256).to(device)\n",
        "#agent = Agent(lr=0.001,batch_size=1,max_mem=100_000,gamma=0.95,epsilon=0.2,custom_model=model1,target=model2,state_type=1)\n",
        "#state=1\n",
        "\n",
        "#Option plus complexe: réseau convolutionnel (il faut beaucoup d'itérations pour que ça fonctionne)\n",
        "model1=ConvQNet2(8,8).to(device)\n",
        "model2=ConvQNet2(8,8).to(device)\n",
        "agent = Agent(lr=0.001,batch_size=10,max_mem=100_000,gamma=0.95,epsilon=0.8,custom_model=model1,target=model2,state_type=2)\n",
        "state=2\n",
        "\n",
        "\n"
      ]
    },
    {
      "cell_type": "code",
      "execution_count": null,
      "metadata": {
        "id": "E13yuGKEUtiY"
      },
      "outputs": [],
      "source": [
        "import time\n",
        "# model1=ConvQNet2(8,8).to(device)\n",
        "# model2=ConvQNet2(8,8).to(device)\n",
        "# agent = Agent(lr=0.001,batch_size=10,max_mem=100_000,gamma=0.95,epsilon=0.4,custom_model=model1,target=model2,state_type=2)\n",
        "#Penser bien à reset l'agent en exécutant la cellule au-dessus\n",
        "scoresHistory = []\n",
        "meanScores = []\n",
        "def train(agent,nbepisodes=2000,state_type=1,save_games=True,eval=False,test_loss=False,reward_type = \"standard\",n_rows=8,n_cols=8):\n",
        "    totalScore = 0\n",
        "    bestScore = 0\n",
        "    game = SnakeGameAI(n_rows=n_rows,n_cols=n_cols,iteration_max=300,reward_type = reward_type)\n",
        "    grids=[]\n",
        "    nbsteps=0\n",
        "    compteur=0\n",
        "    C=0.9999\n",
        "    bool=True\n",
        "    meanScores2=[]\n",
        "    episodes=[]\n",
        "    rewards=[]\n",
        "    episodes_r=[]\n",
        "\n",
        "    # we train the model for 200 games\n",
        "    while agent.numberOfGames < nbepisodes:\n",
        "        if agent.numberOfGames>=5000 and bool:\n",
        "          game = SnakeGameAI(iteration_max=300)\n",
        "          bool=False\n",
        "        nbsteps+=1\n",
        "        grid=game.get_grid()\n",
        "        grids.append(grid)\n",
        "        # get old state\n",
        "        if state_type==1:\n",
        "          oldState = agent.getState(game)\n",
        "        else:\n",
        "          oldState = agent.getState2(game).to(device)\n",
        "        # move\n",
        "        if test_loss:\n",
        "          finalMove = agent.getAction(oldState,test_loss=True)\n",
        "        else:\n",
        "          finalMove = agent.getAction(oldState)\n",
        "        # perform move and get new state\n",
        "        reward, done, score = game.step(finalMove)\n",
        "        if state_type==1:\n",
        "          newState = agent.getState(game)\n",
        "        else:\n",
        "          newState = agent.getState2(game).to(device)\n",
        "\n",
        "        # train with buffer\n",
        "        if agent.numberOfGames>5 and agent.numberOfGames%agent.batch_size==0 and not eval:\n",
        "          agent.trainLongMemory()\n",
        "        if agent.numberOfGames%50==0 and agent.numberOfGames>1 and not eval:\n",
        "          agent.update_target()\n",
        "\n",
        "        # remember\n",
        "        if state_type==2:\n",
        "          agent.remember(oldState.to(device), finalMove, reward, newState.to(device), done)\n",
        "        else:\n",
        "          agent.remember(oldState, finalMove, reward, newState, done)\n",
        "\n",
        "        if done:\n",
        "            compteur+=1\n",
        "            if save_games:\n",
        "              print('saving game...')\n",
        "              gif_filename = 'snake_game_random'+str(agent.numberOfGames+1)+'.gif'\n",
        "              grids_to_gif(grids, gif_filename)\n",
        "            agent.numberOfGames += 1\n",
        "\n",
        "            if score > bestScore:\n",
        "                bestScore = score\n",
        "\n",
        "            totalScore += score\n",
        "            meanScore = (totalScore / compteur)\n",
        "            if agent.numberOfGames%30==0:\n",
        "              episodes.append(agent.numberOfGames)\n",
        "              meanScores2.append(meanScore)\n",
        "            if agent.numberOfGames % 10 == 0:\n",
        "              rewards.append(score)\n",
        "              episodes_r.append(agent.numberOfGames)\n",
        "            if agent.numberOfGames % 100 == 0:\n",
        "                print(\"Game number: \", agent.numberOfGames, \"Score: \", score, \"Best Score: \", bestScore, \"Mean scores: \", meanScore, \"Number of steps :\", nbsteps,\"Fruits :\",game.fruits)\n",
        "                if False and ((score >= bestScore and score >=18) or nbsteps==301):\n",
        "                  print('saving game...')\n",
        "                  gif_filename = 'snake_game_random'+str(agent.numberOfGames)+'.gif'\n",
        "                  grids_to_gif(grids, gif_filename)\n",
        "                  grids=[]\n",
        "            nbsteps=0\n",
        "            grids=[]\n",
        "            game.reset()\n",
        "    return(episodes_r,rewards,episodes,meanScores2)"
      ]
    },
    {
      "cell_type": "markdown",
      "source": [
        "## Test of our optimized agent"
      ],
      "metadata": {
        "id": "yfGm5vbzvhOw"
      }
    },
    {
      "cell_type": "code",
      "source": [
        "model1=torch.load(\"model_snake(3).pth\")\n",
        "model2=torch.load(\"model_snake(3).pth\")\n",
        "agent = Agent(lr=0.001,batch_size=10,max_mem=100_000,gamma=0.95,epsilon=0,custom_model=model1,target=model2,state_type=2)\n",
        "episode_r, reward, episodes, meanscores = train(agent,nbepisodes = 5000 ,state_type=state,save_games=False,eval=True,reward_type = \"standard\",n_rows=8,n_cols=8)\n"
      ],
      "metadata": {
        "colab": {
          "base_uri": "https://localhost:8080/"
        },
        "id": "mGrUQLEbxtiM",
        "outputId": "8f3af54c-5d52-4391-8437-94ef7bda5b41"
      },
      "execution_count": null,
      "outputs": [
        {
          "output_type": "stream",
          "name": "stdout",
          "text": [
            "Game number:  100 Score:  12 Best Score:  26 Mean scores:  14.32 Number of steps : 83 Fruits : 12\n",
            "Game number:  200 Score:  14 Best Score:  28 Mean scores:  14.635 Number of steps : 123 Fruits : 14\n",
            "Game number:  300 Score:  9 Best Score:  28 Mean scores:  14.453333333333333 Number of steps : 64 Fruits : 9\n",
            "Game number:  400 Score:  13 Best Score:  28 Mean scores:  14.4225 Number of steps : 64 Fruits : 13\n",
            "Game number:  500 Score:  11 Best Score:  28 Mean scores:  14.494 Number of steps : 92 Fruits : 11\n",
            "Game number:  600 Score:  14 Best Score:  28 Mean scores:  14.316666666666666 Number of steps : 81 Fruits : 14\n",
            "Game number:  700 Score:  11 Best Score:  28 Mean scores:  14.255714285714285 Number of steps : 93 Fruits : 11\n",
            "Game number:  800 Score:  22 Best Score:  28 Mean scores:  14.23875 Number of steps : 138 Fruits : 22\n",
            "Game number:  900 Score:  19 Best Score:  28 Mean scores:  14.167777777777777 Number of steps : 145 Fruits : 19\n",
            "Game number:  1000 Score:  15 Best Score:  28 Mean scores:  14.132 Number of steps : 99 Fruits : 15\n",
            "Game number:  1100 Score:  13 Best Score:  28 Mean scores:  14.110909090909091 Number of steps : 85 Fruits : 13\n",
            "Game number:  1200 Score:  20 Best Score:  28 Mean scores:  14.151666666666667 Number of steps : 168 Fruits : 20\n",
            "Game number:  1300 Score:  13 Best Score:  28 Mean scores:  14.125384615384615 Number of steps : 91 Fruits : 13\n",
            "Game number:  1400 Score:  11 Best Score:  28 Mean scores:  14.11357142857143 Number of steps : 81 Fruits : 11\n",
            "Game number:  1500 Score:  18 Best Score:  28 Mean scores:  14.144 Number of steps : 120 Fruits : 18\n",
            "Game number:  1600 Score:  21 Best Score:  28 Mean scores:  14.11375 Number of steps : 205 Fruits : 21\n",
            "Game number:  1700 Score:  17 Best Score:  28 Mean scores:  14.147058823529411 Number of steps : 157 Fruits : 17\n",
            "Game number:  1800 Score:  15 Best Score:  28 Mean scores:  14.156666666666666 Number of steps : 128 Fruits : 15\n",
            "Game number:  1900 Score:  10 Best Score:  28 Mean scores:  14.172105263157894 Number of steps : 92 Fruits : 10\n",
            "Game number:  2000 Score:  11 Best Score:  28 Mean scores:  14.216 Number of steps : 88 Fruits : 11\n",
            "Game number:  2100 Score:  27 Best Score:  28 Mean scores:  14.236666666666666 Number of steps : 202 Fruits : 27\n",
            "Game number:  2200 Score:  19 Best Score:  28 Mean scores:  14.243636363636364 Number of steps : 171 Fruits : 19\n",
            "Game number:  2300 Score:  18 Best Score:  28 Mean scores:  14.219565217391304 Number of steps : 123 Fruits : 18\n",
            "Game number:  2400 Score:  15 Best Score:  28 Mean scores:  14.20625 Number of steps : 141 Fruits : 15\n",
            "Game number:  2500 Score:  11 Best Score:  28 Mean scores:  14.2164 Number of steps : 55 Fruits : 11\n",
            "Game number:  2600 Score:  6 Best Score:  28 Mean scores:  14.234615384615385 Number of steps : 30 Fruits : 6\n",
            "Game number:  2700 Score:  13 Best Score:  28 Mean scores:  14.231851851851852 Number of steps : 69 Fruits : 13\n",
            "Game number:  2800 Score:  10 Best Score:  28 Mean scores:  14.232142857142858 Number of steps : 77 Fruits : 10\n",
            "Game number:  2900 Score:  14 Best Score:  28 Mean scores:  14.216896551724139 Number of steps : 92 Fruits : 14\n",
            "Game number:  3000 Score:  7 Best Score:  28 Mean scores:  14.224666666666666 Number of steps : 35 Fruits : 7\n",
            "Game number:  3100 Score:  11 Best Score:  30 Mean scores:  14.248064516129032 Number of steps : 69 Fruits : 11\n",
            "Game number:  3200 Score:  11 Best Score:  30 Mean scores:  14.2375 Number of steps : 86 Fruits : 11\n",
            "Game number:  3300 Score:  11 Best Score:  30 Mean scores:  14.221818181818183 Number of steps : 72 Fruits : 11\n",
            "Game number:  3400 Score:  10 Best Score:  30 Mean scores:  14.24764705882353 Number of steps : 60 Fruits : 10\n",
            "Game number:  3500 Score:  7 Best Score:  30 Mean scores:  14.265428571428572 Number of steps : 50 Fruits : 7\n",
            "Game number:  3600 Score:  8 Best Score:  30 Mean scores:  14.26361111111111 Number of steps : 50 Fruits : 8\n",
            "Game number:  3700 Score:  13 Best Score:  30 Mean scores:  14.243513513513513 Number of steps : 137 Fruits : 13\n",
            "Game number:  3800 Score:  15 Best Score:  30 Mean scores:  14.242894736842105 Number of steps : 97 Fruits : 15\n",
            "Game number:  3900 Score:  12 Best Score:  30 Mean scores:  14.253333333333334 Number of steps : 102 Fruits : 12\n",
            "Game number:  4000 Score:  13 Best Score:  30 Mean scores:  14.2695 Number of steps : 77 Fruits : 13\n",
            "Game number:  4100 Score:  13 Best Score:  30 Mean scores:  14.260243902439024 Number of steps : 75 Fruits : 13\n",
            "Game number:  4200 Score:  11 Best Score:  30 Mean scores:  14.261666666666667 Number of steps : 84 Fruits : 11\n",
            "Game number:  4300 Score:  16 Best Score:  30 Mean scores:  14.260697674418605 Number of steps : 116 Fruits : 16\n",
            "Game number:  4400 Score:  11 Best Score:  30 Mean scores:  14.254772727272726 Number of steps : 65 Fruits : 11\n",
            "Game number:  4500 Score:  17 Best Score:  30 Mean scores:  14.248444444444445 Number of steps : 113 Fruits : 17\n",
            "Game number:  4600 Score:  12 Best Score:  30 Mean scores:  14.273695652173913 Number of steps : 55 Fruits : 12\n",
            "Game number:  4700 Score:  7 Best Score:  30 Mean scores:  14.273191489361702 Number of steps : 59 Fruits : 7\n",
            "Game number:  4800 Score:  4 Best Score:  30 Mean scores:  14.282708333333334 Number of steps : 25 Fruits : 4\n",
            "Game number:  4900 Score:  14 Best Score:  30 Mean scores:  14.280408163265307 Number of steps : 102 Fruits : 14\n",
            "Game number:  5000 Score:  17 Best Score:  30 Mean scores:  14.2898 Number of steps : 164 Fruits : 17\n"
          ]
        }
      ]
    },
    {
      "cell_type": "markdown",
      "source": [
        "## Test rewards of our optimized agent"
      ],
      "metadata": {
        "id": "ZZd0_St-w7ZH"
      }
    },
    {
      "cell_type": "code",
      "source": [
        "plt.plot(episode_r, reward)\n",
        "plt.xlabel('Episodes')\n",
        "plt.ylabel('Reward')\n",
        "plt.title('Rewards for optimized agent trained with 50,000 epochs')\n",
        "plt.legend()\n",
        "plt.show()"
      ],
      "metadata": {
        "colab": {
          "base_uri": "https://localhost:8080/",
          "height": 510
        },
        "id": "Cbl4_RDbnjJh",
        "outputId": "46ff710f-4887-466b-ced9-8547684ae712"
      },
      "execution_count": null,
      "outputs": [
        {
          "output_type": "stream",
          "name": "stderr",
          "text": [
            "WARNING:matplotlib.legend:No artists with labels found to put in legend.  Note that artists whose label start with an underscore are ignored when legend() is called with no argument.\n"
          ]
        },
        {
          "output_type": "display_data",
          "data": {
            "text/plain": [
              "<Figure size 640x480 with 1 Axes>"
            ],
            "image/png": "[encoded data removed]"
          },
          "metadata": {}
        }
      ]
    },
    {
      "cell_type": "markdown",
      "source": [
        "## Parametrization"
      ],
      "metadata": {
        "id": "uFTJA6AlvojK"
      }
    },
    {
      "cell_type": "markdown",
      "source": [
        "Here is the code for the parametrization of our agent with the hidden dimension of our model. Other parametrizations have been done exactly the same way. Running takes around 15-20 minutes with a GPU."
      ],
      "metadata": {
        "id": "bqfPEzIKvtMI"
      }
    },
    {
      "cell_type": "code",
      "source": [
        "times=[]\n",
        "test_scores=[]\n",
        "for hidden_dim in [128,256,512,1024,2048]:\n",
        "  model1=ConvQNet2(8,8,hidden_dim=hidden_dim).to(device)\n",
        "  model2=ConvQNet2(8,8,hidden_dim=hidden_dim).to(device)\n",
        "  agent = Agent(lr=0.001,batch_size=10,max_mem=100_000,gamma=0.95,epsilon=0.4,custom_model=model1,target=model2,state_type=2)\n",
        "  state=2\n",
        "  begin=time.time()\n",
        "  episodes_r,rewards,episodes,meanScores=train(agent,nbepisodes=4000,state_type=state,save_games=False,eval=False)\n",
        "  end=time.time()\n",
        "  times.append(end-begin)\n",
        "  plt.plot(episodes, meanScores,label=\"Hidden dimension = \"+str(hidden_dim))\n",
        "plt.xlabel('Episodes')\n",
        "plt.ylabel('Training mean episode reward')\n",
        "plt.title('Evolution of the mean score with the number of episodes')\n",
        "plt.legend()\n",
        "plt.savefig(\"compare_plot_hidden_dim.png\")\n"
      ],
      "metadata": {
        "colab": {
          "base_uri": "https://localhost:8080/",
          "height": 392
        },
        "id": "0miOlOvjm9xG",
        "outputId": "68150eb2-7e8b-4c94-f760-2e709da303f3"
      },
      "execution_count": null,
      "outputs": [
        {
          "output_type": "error",
          "ename": "KeyboardInterrupt",
          "evalue": "",
          "traceback": [
            "\u001b[0;31m---------------------------------------------------------------------------\u001b[0m",
            "\u001b[0;31mKeyboardInterrupt\u001b[0m                         Traceback (most recent call last)",
            "\u001b[0;32m<ipython-input-16-5b0ea8382611>\u001b[0m in \u001b[0;36m<cell line: 3>\u001b[0;34m()\u001b[0m\n\u001b[1;32m      7\u001b[0m   \u001b[0mstate\u001b[0m\u001b[0;34m=\u001b[0m\u001b[0;36m2\u001b[0m\u001b[0;34m\u001b[0m\u001b[0;34m\u001b[0m\u001b[0m\n\u001b[1;32m      8\u001b[0m   \u001b[0mbegin\u001b[0m\u001b[0;34m=\u001b[0m\u001b[0mtime\u001b[0m\u001b[0;34m.\u001b[0m\u001b[0mtime\u001b[0m\u001b[0;34m(\u001b[0m\u001b[0;34m)\u001b[0m\u001b[0;34m\u001b[0m\u001b[0;34m\u001b[0m\u001b[0m\n\u001b[0;32m----> 9\u001b[0;31m   \u001b[0mepisodes_r\u001b[0m\u001b[0;34m,\u001b[0m\u001b[0mrewards\u001b[0m\u001b[0;34m,\u001b[0m\u001b[0mepisodes\u001b[0m\u001b[0;34m,\u001b[0m\u001b[0mmeanScores\u001b[0m\u001b[0;34m=\u001b[0m\u001b[0mtrain\u001b[0m\u001b[0;34m(\u001b[0m\u001b[0magent\u001b[0m\u001b[0;34m,\u001b[0m\u001b[0mnbepisodes\u001b[0m\u001b[0;34m=\u001b[0m\u001b[0;36m4000\u001b[0m\u001b[0;34m,\u001b[0m\u001b[0mstate_type\u001b[0m\u001b[0;34m=\u001b[0m\u001b[0mstate\u001b[0m\u001b[0;34m,\u001b[0m\u001b[0msave_games\u001b[0m\u001b[0;34m=\u001b[0m\u001b[0;32mFalse\u001b[0m\u001b[0;34m,\u001b[0m\u001b[0meval\u001b[0m\u001b[0;34m=\u001b[0m\u001b[0;32mFalse\u001b[0m\u001b[0;34m)\u001b[0m\u001b[0;34m\u001b[0m\u001b[0;34m\u001b[0m\u001b[0m\n\u001b[0m\u001b[1;32m     10\u001b[0m   \u001b[0mend\u001b[0m\u001b[0;34m=\u001b[0m\u001b[0mtime\u001b[0m\u001b[0;34m.\u001b[0m\u001b[0mtime\u001b[0m\u001b[0;34m(\u001b[0m\u001b[0;34m)\u001b[0m\u001b[0;34m\u001b[0m\u001b[0;34m\u001b[0m\u001b[0m\n\u001b[1;32m     11\u001b[0m   \u001b[0mtimes\u001b[0m\u001b[0;34m.\u001b[0m\u001b[0mappend\u001b[0m\u001b[0;34m(\u001b[0m\u001b[0mend\u001b[0m\u001b[0;34m-\u001b[0m\u001b[0mbegin\u001b[0m\u001b[0;34m)\u001b[0m\u001b[0;34m\u001b[0m\u001b[0;34m\u001b[0m\u001b[0m\n",
            "\u001b[0;32m<ipython-input-15-05f365cb04ca>\u001b[0m in \u001b[0;36mtrain\u001b[0;34m(agent, nbepisodes, state_type, save_games, eval, test_loss, reward_type, n_rows, n_cols)\u001b[0m\n\u001b[1;32m     46\u001b[0m           \u001b[0mfinalMove\u001b[0m \u001b[0;34m=\u001b[0m \u001b[0magent\u001b[0m\u001b[0;34m.\u001b[0m\u001b[0mgetAction\u001b[0m\u001b[0;34m(\u001b[0m\u001b[0moldState\u001b[0m\u001b[0;34m)\u001b[0m\u001b[0;34m\u001b[0m\u001b[0;34m\u001b[0m\u001b[0m\n\u001b[1;32m     47\u001b[0m         \u001b[0;31m# perform move and get new state\u001b[0m\u001b[0;34m\u001b[0m\u001b[0;34m\u001b[0m\u001b[0m\n\u001b[0;32m---> 48\u001b[0;31m         \u001b[0mreward\u001b[0m\u001b[0;34m,\u001b[0m \u001b[0mdone\u001b[0m\u001b[0;34m,\u001b[0m \u001b[0mscore\u001b[0m \u001b[0;34m=\u001b[0m \u001b[0mgame\u001b[0m\u001b[0;34m.\u001b[0m\u001b[0mstep\u001b[0m\u001b[0;34m(\u001b[0m\u001b[0mfinalMove\u001b[0m\u001b[0;34m)\u001b[0m\u001b[0;34m\u001b[0m\u001b[0;34m\u001b[0m\u001b[0m\n\u001b[0m\u001b[1;32m     49\u001b[0m         \u001b[0;31m#print(done)\u001b[0m\u001b[0;34m\u001b[0m\u001b[0;34m\u001b[0m\u001b[0m\n\u001b[1;32m     50\u001b[0m         \u001b[0;31m#print(time.time())\u001b[0m\u001b[0;34m\u001b[0m\u001b[0;34m\u001b[0m\u001b[0m\n",
            "\u001b[0;32m<ipython-input-3-95e66e8c08a1>\u001b[0m in \u001b[0;36mstep\u001b[0;34m(self, action)\u001b[0m\n\u001b[1;32m     57\u001b[0m         \u001b[0mx_food\u001b[0m\u001b[0;34m,\u001b[0m \u001b[0my_food\u001b[0m \u001b[0;34m=\u001b[0m \u001b[0mself\u001b[0m\u001b[0;34m.\u001b[0m\u001b[0mfood\u001b[0m\u001b[0;34m\u001b[0m\u001b[0;34m\u001b[0m\u001b[0m\n\u001b[1;32m     58\u001b[0m         \u001b[0minitial_head\u001b[0m\u001b[0;34m=\u001b[0m\u001b[0mself\u001b[0m\u001b[0;34m.\u001b[0m\u001b[0mhead\u001b[0m\u001b[0;34m\u001b[0m\u001b[0;34m\u001b[0m\u001b[0m\n\u001b[0;32m---> 59\u001b[0;31m         \u001b[0mself\u001b[0m\u001b[0;34m.\u001b[0m\u001b[0mmove\u001b[0m\u001b[0;34m(\u001b[0m\u001b[0maction\u001b[0m\u001b[0;34m)\u001b[0m\u001b[0;34m\u001b[0m\u001b[0;34m\u001b[0m\u001b[0m\n\u001b[0m\u001b[1;32m     60\u001b[0m         \u001b[0mfinal_head\u001b[0m\u001b[0;34m=\u001b[0m\u001b[0mself\u001b[0m\u001b[0;34m.\u001b[0m\u001b[0mhead\u001b[0m\u001b[0;34m\u001b[0m\u001b[0;34m\u001b[0m\u001b[0m\n\u001b[1;32m     61\u001b[0m         \u001b[0mreward\u001b[0m \u001b[0;34m=\u001b[0m \u001b[0;36m0\u001b[0m\u001b[0;34m\u001b[0m\u001b[0;34m\u001b[0m\u001b[0m\n",
            "\u001b[0;32m<ipython-input-3-95e66e8c08a1>\u001b[0m in \u001b[0;36mmove\u001b[0;34m(self, action)\u001b[0m\n\u001b[1;32m    139\u001b[0m         \u001b[0;32mif\u001b[0m \u001b[0;36m0\u001b[0m\u001b[0;34m<=\u001b[0m\u001b[0mx\u001b[0m\u001b[0;34m<\u001b[0m\u001b[0mself\u001b[0m\u001b[0;34m.\u001b[0m\u001b[0mn_rows\u001b[0m \u001b[0;32mand\u001b[0m \u001b[0;36m0\u001b[0m\u001b[0;34m<=\u001b[0m\u001b[0my\u001b[0m\u001b[0;34m<\u001b[0m\u001b[0mself\u001b[0m\u001b[0;34m.\u001b[0m\u001b[0mn_cols\u001b[0m\u001b[0;34m:\u001b[0m\u001b[0;34m\u001b[0m\u001b[0;34m\u001b[0m\u001b[0m\n\u001b[1;32m    140\u001b[0m           \u001b[0mself\u001b[0m\u001b[0;34m.\u001b[0m\u001b[0mboard\u001b[0m\u001b[0;34m[\u001b[0m\u001b[0;36m0\u001b[0m\u001b[0;34m]\u001b[0m\u001b[0;34m[\u001b[0m\u001b[0mx\u001b[0m\u001b[0;34m,\u001b[0m\u001b[0my\u001b[0m\u001b[0;34m]\u001b[0m\u001b[0;34m=\u001b[0m\u001b[0;34m-\u001b[0m\u001b[0;36m1\u001b[0m\u001b[0;34m\u001b[0m\u001b[0;34m\u001b[0m\u001b[0m\n\u001b[0;32m--> 141\u001b[0;31m         \u001b[0;32mif\u001b[0m \u001b[0;32mnot\u001b[0m \u001b[0mself\u001b[0m\u001b[0;34m.\u001b[0m\u001b[0mis_collision\u001b[0m\u001b[0;34m(\u001b[0m\u001b[0;34m)\u001b[0m\u001b[0;34m:\u001b[0m\u001b[0;34m\u001b[0m\u001b[0;34m\u001b[0m\u001b[0m\n\u001b[0m\u001b[1;32m    142\u001b[0m             \u001b[0mself\u001b[0m\u001b[0;34m.\u001b[0m\u001b[0msnake\u001b[0m\u001b[0;34m.\u001b[0m\u001b[0minsert\u001b[0m\u001b[0;34m(\u001b[0m\u001b[0;36m0\u001b[0m\u001b[0;34m,\u001b[0m\u001b[0mself\u001b[0m\u001b[0;34m.\u001b[0m\u001b[0mhead\u001b[0m\u001b[0;34m)\u001b[0m\u001b[0;34m\u001b[0m\u001b[0;34m\u001b[0m\u001b[0m\n\u001b[1;32m    143\u001b[0m \u001b[0;34m\u001b[0m\u001b[0m\n",
            "\u001b[0;32m<ipython-input-3-95e66e8c08a1>\u001b[0m in \u001b[0;36mis_collision\u001b[0;34m(self, point)\u001b[0m\n\u001b[1;32m     97\u001b[0m         \u001b[0;32mreturn\u001b[0m \u001b[0mreward\u001b[0m\u001b[0;34m,\u001b[0m \u001b[0mgame_over\u001b[0m\u001b[0;34m,\u001b[0m \u001b[0mself\u001b[0m\u001b[0;34m.\u001b[0m\u001b[0mscore\u001b[0m\u001b[0;34m\u001b[0m\u001b[0;34m\u001b[0m\u001b[0m\n\u001b[1;32m     98\u001b[0m \u001b[0;34m\u001b[0m\u001b[0m\n\u001b[0;32m---> 99\u001b[0;31m     \u001b[0;32mdef\u001b[0m \u001b[0mis_collision\u001b[0m\u001b[0;34m(\u001b[0m\u001b[0mself\u001b[0m\u001b[0;34m,\u001b[0m\u001b[0mpoint\u001b[0m \u001b[0;34m=\u001b[0m \u001b[0;32mNone\u001b[0m\u001b[0;34m)\u001b[0m\u001b[0;34m:\u001b[0m \u001b[0;31m#check if snake collides with itself or the wall\u001b[0m\u001b[0;34m\u001b[0m\u001b[0;34m\u001b[0m\u001b[0m\n\u001b[0m\u001b[1;32m    100\u001b[0m         \u001b[0;32mif\u001b[0m \u001b[0mpoint\u001b[0m \u001b[0;32mis\u001b[0m \u001b[0;32mNone\u001b[0m\u001b[0;34m:\u001b[0m\u001b[0;34m\u001b[0m\u001b[0;34m\u001b[0m\u001b[0m\n\u001b[1;32m    101\u001b[0m             \u001b[0mpoint\u001b[0m \u001b[0;34m=\u001b[0m \u001b[0mself\u001b[0m\u001b[0;34m.\u001b[0m\u001b[0mhead\u001b[0m\u001b[0;34m\u001b[0m\u001b[0;34m\u001b[0m\u001b[0m\n",
            "\u001b[0;31mKeyboardInterrupt\u001b[0m: "
          ]
        }
      ]
    },
    {
      "cell_type": "markdown",
      "source": [
        "Here is the code for the parametrization of our agent with the number of channels of our model."
      ],
      "metadata": {
        "id": "OCLwp8eBwFwB"
      }
    },
    {
      "cell_type": "code",
      "source": [
        "times2=[]\n",
        "test_scores=[]\n",
        "for nb_channels in [4,8,16,32]:\n",
        "  model1=ConvQNet2(8,8,nb_channels=nb_channels).to(device)\n",
        "  model2=ConvQNet2(8,8,nb_channels=nb_channels).to(device)\n",
        "  agent = Agent(lr=0.001,batch_size=10,max_mem=100_000,gamma=0.95,epsilon=0.4,custom_model=model1,target=model2,state_type=2)\n",
        "  state=2\n",
        "  begin=time.time()\n",
        "  episodes_r,rewards,episodes,meanScores=train(agent,nbepisodes=4000,state_type=state,save_games=False,eval=False)\n",
        "  end=time.time()\n",
        "  times2.append(end-begin)\n",
        "  plt.plot(episodes, meanScores,label=\"Hidden dimension = \"+str(hidden_dim))\n",
        "plt.xlabel('Episodes')\n",
        "plt.ylabel('Training mean episode reward')\n",
        "plt.title('Evolution of the mean score with the number of episodes')\n",
        "plt.legend()\n",
        "plt.savefig(\"compare_plot_nb_channels.png\")\n"
      ],
      "metadata": {
        "colab": {
          "base_uri": "https://localhost:8080/",
          "height": 410
        },
        "id": "4NMzhbKnnXvU",
        "outputId": "5f93f370-3578-454f-8d7c-ecfb26f261c1"
      },
      "execution_count": null,
      "outputs": [
        {
          "output_type": "stream",
          "name": "stdout",
          "text": [
            "Game number:  100 Score:  0 Best Score:  1 Mean scores:  0.1 Number of steps : 4 Fruits : 0\n"
          ]
        },
        {
          "output_type": "error",
          "ename": "KeyboardInterrupt",
          "evalue": "",
          "traceback": [
            "\u001b[0;31m---------------------------------------------------------------------------\u001b[0m",
            "\u001b[0;31mKeyboardInterrupt\u001b[0m                         Traceback (most recent call last)",
            "\u001b[0;32m<ipython-input-40-a9f4bda05548>\u001b[0m in \u001b[0;36m<cell line: 3>\u001b[0;34m()\u001b[0m\n\u001b[1;32m      7\u001b[0m   \u001b[0mstate\u001b[0m\u001b[0;34m=\u001b[0m\u001b[0;36m2\u001b[0m\u001b[0;34m\u001b[0m\u001b[0;34m\u001b[0m\u001b[0m\n\u001b[1;32m      8\u001b[0m   \u001b[0mbegin\u001b[0m\u001b[0;34m=\u001b[0m\u001b[0mtime\u001b[0m\u001b[0;34m.\u001b[0m\u001b[0mtime\u001b[0m\u001b[0;34m(\u001b[0m\u001b[0;34m)\u001b[0m\u001b[0;34m\u001b[0m\u001b[0;34m\u001b[0m\u001b[0m\n\u001b[0;32m----> 9\u001b[0;31m   \u001b[0mepisodes_r\u001b[0m\u001b[0;34m,\u001b[0m\u001b[0mrewards\u001b[0m\u001b[0;34m,\u001b[0m\u001b[0mepisodes\u001b[0m\u001b[0;34m,\u001b[0m\u001b[0mmeanScores\u001b[0m\u001b[0;34m=\u001b[0m\u001b[0mtrain\u001b[0m\u001b[0;34m(\u001b[0m\u001b[0magent\u001b[0m\u001b[0;34m,\u001b[0m\u001b[0mnbepisodes\u001b[0m\u001b[0;34m=\u001b[0m\u001b[0;36m4000\u001b[0m\u001b[0;34m,\u001b[0m\u001b[0mstate_type\u001b[0m\u001b[0;34m=\u001b[0m\u001b[0mstate\u001b[0m\u001b[0;34m,\u001b[0m\u001b[0msave_games\u001b[0m\u001b[0;34m=\u001b[0m\u001b[0;32mFalse\u001b[0m\u001b[0;34m,\u001b[0m\u001b[0meval\u001b[0m\u001b[0;34m=\u001b[0m\u001b[0;32mFalse\u001b[0m\u001b[0;34m)\u001b[0m\u001b[0;34m\u001b[0m\u001b[0;34m\u001b[0m\u001b[0m\n\u001b[0m\u001b[1;32m     10\u001b[0m   \u001b[0mend\u001b[0m\u001b[0;34m=\u001b[0m\u001b[0mtime\u001b[0m\u001b[0;34m.\u001b[0m\u001b[0mtime\u001b[0m\u001b[0;34m(\u001b[0m\u001b[0;34m)\u001b[0m\u001b[0;34m\u001b[0m\u001b[0;34m\u001b[0m\u001b[0m\n\u001b[1;32m     11\u001b[0m   \u001b[0mtimes2\u001b[0m\u001b[0;34m.\u001b[0m\u001b[0mappend\u001b[0m\u001b[0;34m(\u001b[0m\u001b[0mend\u001b[0m\u001b[0;34m-\u001b[0m\u001b[0mbegin\u001b[0m\u001b[0;34m)\u001b[0m\u001b[0;34m\u001b[0m\u001b[0;34m\u001b[0m\u001b[0m\n",
            "\u001b[0;32m<ipython-input-15-05f365cb04ca>\u001b[0m in \u001b[0;36mtrain\u001b[0;34m(agent, nbepisodes, state_type, save_games, eval, test_loss, reward_type, n_rows, n_cols)\u001b[0m\n\u001b[1;32m     99\u001b[0m             \u001b[0mnbsteps\u001b[0m\u001b[0;34m=\u001b[0m\u001b[0;36m0\u001b[0m\u001b[0;34m\u001b[0m\u001b[0;34m\u001b[0m\u001b[0m\n\u001b[1;32m    100\u001b[0m             \u001b[0mgrids\u001b[0m\u001b[0;34m=\u001b[0m\u001b[0;34m[\u001b[0m\u001b[0;34m]\u001b[0m\u001b[0;34m\u001b[0m\u001b[0;34m\u001b[0m\u001b[0m\n\u001b[0;32m--> 101\u001b[0;31m             \u001b[0mgame\u001b[0m\u001b[0;34m.\u001b[0m\u001b[0mreset\u001b[0m\u001b[0;34m(\u001b[0m\u001b[0;34m)\u001b[0m\u001b[0;34m\u001b[0m\u001b[0;34m\u001b[0m\u001b[0m\n\u001b[0m\u001b[1;32m    102\u001b[0m     \u001b[0;31m#plt.plot(episodes_r, rewards)\u001b[0m\u001b[0;34m\u001b[0m\u001b[0;34m\u001b[0m\u001b[0m\n\u001b[1;32m    103\u001b[0m     \u001b[0;31m#plt.xlabel('X-axis')\u001b[0m\u001b[0;34m\u001b[0m\u001b[0;34m\u001b[0m\u001b[0m\n",
            "\u001b[0;32m<ipython-input-3-95e66e8c08a1>\u001b[0m in \u001b[0;36mreset\u001b[0;34m(self)\u001b[0m\n\u001b[1;32m     35\u001b[0m         \u001b[0mself\u001b[0m\u001b[0;34m.\u001b[0m\u001b[0mplace_food\u001b[0m\u001b[0;34m(\u001b[0m\u001b[0;34m)\u001b[0m\u001b[0;34m\u001b[0m\u001b[0;34m\u001b[0m\u001b[0m\n\u001b[1;32m     36\u001b[0m         \u001b[0mself\u001b[0m\u001b[0;34m.\u001b[0m\u001b[0mfruits\u001b[0m\u001b[0;34m=\u001b[0m\u001b[0;36m0\u001b[0m\u001b[0;34m\u001b[0m\u001b[0;34m\u001b[0m\u001b[0m\n\u001b[0;32m---> 37\u001b[0;31m         \u001b[0mself\u001b[0m\u001b[0;34m.\u001b[0m\u001b[0mreset_board\u001b[0m\u001b[0;34m(\u001b[0m\u001b[0;34m)\u001b[0m\u001b[0;34m\u001b[0m\u001b[0;34m\u001b[0m\u001b[0m\n\u001b[0m\u001b[1;32m     38\u001b[0m \u001b[0;34m\u001b[0m\u001b[0m\n\u001b[1;32m     39\u001b[0m     \u001b[0;32mdef\u001b[0m \u001b[0mreset_board\u001b[0m\u001b[0;34m(\u001b[0m\u001b[0mself\u001b[0m\u001b[0;34m)\u001b[0m\u001b[0;34m:\u001b[0m\u001b[0;34m\u001b[0m\u001b[0;34m\u001b[0m\u001b[0m\n",
            "\u001b[0;32m<ipython-input-3-95e66e8c08a1>\u001b[0m in \u001b[0;36mreset_board\u001b[0;34m(self)\u001b[0m\n\u001b[1;32m     41\u001b[0m         \u001b[0mself\u001b[0m\u001b[0;34m.\u001b[0m\u001b[0mboard\u001b[0m\u001b[0;34m[\u001b[0m\u001b[0;36m1\u001b[0m\u001b[0;34m]\u001b[0m\u001b[0;34m[\u001b[0m\u001b[0mself\u001b[0m\u001b[0;34m.\u001b[0m\u001b[0mfood\u001b[0m\u001b[0;34m]\u001b[0m\u001b[0;34m=\u001b[0m\u001b[0;36m1\u001b[0m\u001b[0;34m\u001b[0m\u001b[0;34m\u001b[0m\u001b[0m\n\u001b[1;32m     42\u001b[0m         \u001b[0;32mfor\u001b[0m \u001b[0;34m(\u001b[0m\u001b[0mx\u001b[0m\u001b[0;34m,\u001b[0m\u001b[0my\u001b[0m\u001b[0;34m)\u001b[0m \u001b[0;32min\u001b[0m \u001b[0mself\u001b[0m\u001b[0;34m.\u001b[0m\u001b[0msnake\u001b[0m\u001b[0;34m:\u001b[0m\u001b[0;34m\u001b[0m\u001b[0;34m\u001b[0m\u001b[0m\n\u001b[0;32m---> 43\u001b[0;31m           \u001b[0mself\u001b[0m\u001b[0;34m.\u001b[0m\u001b[0mboard\u001b[0m\u001b[0;34m[\u001b[0m\u001b[0;36m0\u001b[0m\u001b[0;34m]\u001b[0m\u001b[0;34m[\u001b[0m\u001b[0mx\u001b[0m\u001b[0;34m,\u001b[0m\u001b[0my\u001b[0m\u001b[0;34m]\u001b[0m \u001b[0;34m=\u001b[0m \u001b[0;36m1\u001b[0m\u001b[0;34m\u001b[0m\u001b[0;34m\u001b[0m\u001b[0m\n\u001b[0m\u001b[1;32m     44\u001b[0m         \u001b[0mself\u001b[0m\u001b[0;34m.\u001b[0m\u001b[0mboard\u001b[0m\u001b[0;34m[\u001b[0m\u001b[0;36m0\u001b[0m\u001b[0;34m]\u001b[0m\u001b[0;34m[\u001b[0m\u001b[0mself\u001b[0m\u001b[0;34m.\u001b[0m\u001b[0mhead\u001b[0m\u001b[0;34m]\u001b[0m\u001b[0;34m=\u001b[0m\u001b[0;34m-\u001b[0m\u001b[0;36m1\u001b[0m\u001b[0;34m\u001b[0m\u001b[0;34m\u001b[0m\u001b[0m\n\u001b[1;32m     45\u001b[0m \u001b[0;34m\u001b[0m\u001b[0m\n",
            "\u001b[0;31mKeyboardInterrupt\u001b[0m: "
          ]
        }
      ]
    },
    {
      "cell_type": "markdown",
      "source": [
        "Here is the code for the parametrization of our agent with the $\\epsilon$ of the action-selection $\\epsilon$-greedy policy"
      ],
      "metadata": {
        "id": "SHkyeuNkwZR7"
      }
    },
    {
      "cell_type": "code",
      "source": [
        "times=[]\n",
        "for eps in [0.1,0.2,0.4,0.6,0.8]:\n",
        "  model1=ConvQNet2(8,8).to(device)\n",
        "  model2=ConvQNet2(8,8).to(device)\n",
        "  agent = Agent(lr=0.001,batch_size=10,max_mem=100_000,gamma=0.95,epsilon=eps,custom_model=model1,target=model2,state_type=2)\n",
        "  state=2\n",
        "  begin=time.time()\n",
        "  episodes_r,rewards,episodes,meanScores=train(agent,state_type=state,save_games=False,eval=False,test_loss=True)\n",
        "  end=time.time()\n",
        "  times.append(end-begin)\n",
        "  plt.plot(episodes, meanScores,label=\"$\\\\epsilon$ = \"+str(eps))\n",
        "plt.xlabel('Episodes')\n",
        "plt.ylabel('Training mean episode reward')\n",
        "plt.title('Evolution of the mean score with the number of episodes')\n",
        "plt.legend()\n",
        "plt.savefig(\"compare_plot_epsilon_test.png\")"
      ],
      "metadata": {
        "id": "QL5MMdQBvCuk"
      },
      "execution_count": null,
      "outputs": []
    },
    {
      "cell_type": "markdown",
      "source": [
        "## Model generalization"
      ],
      "metadata": {
        "id": "jsz0zuFywvP0"
      }
    },
    {
      "cell_type": "code",
      "source": [
        "model_modele=torch.load(\"model_snake(1).pth\")\n",
        "model_modele2=torch.load(\"model_snake(1).pth\")"
      ],
      "metadata": {
        "id": "j_LayucMn-QF"
      },
      "execution_count": null,
      "outputs": []
    },
    {
      "cell_type": "markdown",
      "source": [
        "Initialization of convolutional weights with our 8*8 optimized model"
      ],
      "metadata": {
        "id": "7fItJk6cyC5r"
      }
    },
    {
      "cell_type": "code",
      "source": [
        "n_rows=16\n",
        "n_cols=16\n",
        "model1=ConvQNet2(n_rows,n_cols).to(device)\n",
        "model2=ConvQNet2(n_rows,n_cols).to(device)\n",
        "model1.conv1=model_modele.conv1\n",
        "model1.conv2=model_modele.conv2\n",
        "model2.conv1=model_modele2.conv1\n",
        "model2.conv2=model_modele2.conv2\n",
        "agent = Agent(lr=0.001,batch_size=10,max_mem=100_000,gamma=0.95,epsilon=0.4,custom_model=model1,target=model2,state_type=2)\n",
        "episode_r, reward, episodes, meanscores = train(agent,nbepisodes = 5000 ,state_type=state,save_games=False,eval=False,reward_type = \"standard\",n_rows=n_rows,n_cols=n_cols)\n"
      ],
      "metadata": {
        "colab": {
          "base_uri": "https://localhost:8080/"
        },
        "id": "S8y6hFfoWtq0",
        "outputId": "cce73bf9-b345-45a3-eea8-49fc11560da0"
      },
      "execution_count": null,
      "outputs": [
        {
          "output_type": "stream",
          "name": "stdout",
          "text": [
            "Game number:  100 Score:  1 Best Score:  3 Mean scores:  0.16 Number of steps : 12 Fruits : 1\n",
            "Game number:  200 Score:  0 Best Score:  3 Mean scores:  0.15 Number of steps : 52 Fruits : 0\n",
            "Game number:  300 Score:  0 Best Score:  3 Mean scores:  0.16 Number of steps : 10 Fruits : 0\n",
            "Game number:  400 Score:  0 Best Score:  3 Mean scores:  0.1925 Number of steps : 44 Fruits : 0\n",
            "Game number:  500 Score:  1 Best Score:  3 Mean scores:  0.218 Number of steps : 18 Fruits : 1\n",
            "Game number:  600 Score:  0 Best Score:  4 Mean scores:  0.2683333333333333 Number of steps : 101 Fruits : 0\n",
            "Game number:  700 Score:  0 Best Score:  4 Mean scores:  0.28 Number of steps : 19 Fruits : 0\n",
            "Game number:  800 Score:  1 Best Score:  4 Mean scores:  0.3 Number of steps : 7 Fruits : 1\n",
            "Game number:  900 Score:  0 Best Score:  4 Mean scores:  0.3244444444444444 Number of steps : 18 Fruits : 0\n",
            "Game number:  1000 Score:  0 Best Score:  4 Mean scores:  0.337 Number of steps : 97 Fruits : 0\n",
            "Game number:  1100 Score:  1 Best Score:  4 Mean scores:  0.3418181818181818 Number of steps : 18 Fruits : 1\n",
            "Game number:  1200 Score:  0 Best Score:  4 Mean scores:  0.35083333333333333 Number of steps : 101 Fruits : 0\n",
            "Game number:  1300 Score:  1 Best Score:  4 Mean scores:  0.36230769230769233 Number of steps : 49 Fruits : 1\n",
            "Game number:  1400 Score:  0 Best Score:  4 Mean scores:  0.38142857142857145 Number of steps : 101 Fruits : 0\n",
            "Game number:  1500 Score:  0 Best Score:  4 Mean scores:  0.3973333333333333 Number of steps : 42 Fruits : 0\n",
            "Game number:  1600 Score:  0 Best Score:  4 Mean scores:  0.4025 Number of steps : 22 Fruits : 0\n",
            "Game number:  1700 Score:  1 Best Score:  4 Mean scores:  0.4111764705882353 Number of steps : 11 Fruits : 1\n",
            "Game number:  1800 Score:  1 Best Score:  4 Mean scores:  0.4211111111111111 Number of steps : 53 Fruits : 1\n",
            "Game number:  1900 Score:  1 Best Score:  4 Mean scores:  0.4284210526315789 Number of steps : 10 Fruits : 1\n",
            "Game number:  2000 Score:  1 Best Score:  4 Mean scores:  0.439 Number of steps : 101 Fruits : 1\n",
            "Game number:  2100 Score:  0 Best Score:  4 Mean scores:  0.45571428571428574 Number of steps : 21 Fruits : 0\n",
            "Game number:  2200 Score:  0 Best Score:  4 Mean scores:  0.4618181818181818 Number of steps : 13 Fruits : 0\n",
            "Game number:  2300 Score:  1 Best Score:  4 Mean scores:  0.46956521739130436 Number of steps : 36 Fruits : 1\n",
            "Game number:  2400 Score:  0 Best Score:  4 Mean scores:  0.47541666666666665 Number of steps : 101 Fruits : 0\n",
            "Game number:  2500 Score:  0 Best Score:  4 Mean scores:  0.4812 Number of steps : 40 Fruits : 0\n",
            "Game number:  2600 Score:  0 Best Score:  4 Mean scores:  0.4888461538461538 Number of steps : 31 Fruits : 0\n",
            "Game number:  2700 Score:  1 Best Score:  4 Mean scores:  0.49666666666666665 Number of steps : 41 Fruits : 1\n",
            "Game number:  2800 Score:  0 Best Score:  4 Mean scores:  0.5046428571428572 Number of steps : 20 Fruits : 0\n",
            "Game number:  2900 Score:  1 Best Score:  4 Mean scores:  0.5106896551724138 Number of steps : 17 Fruits : 1\n",
            "Game number:  3000 Score:  0 Best Score:  4 Mean scores:  0.5153333333333333 Number of steps : 101 Fruits : 0\n",
            "Game number:  3100 Score:  2 Best Score:  4 Mean scores:  0.5216129032258064 Number of steps : 41 Fruits : 2\n",
            "Game number:  3200 Score:  1 Best Score:  4 Mean scores:  0.528125 Number of steps : 12 Fruits : 1\n",
            "Game number:  3300 Score:  0 Best Score:  4 Mean scores:  0.5348484848484848 Number of steps : 20 Fruits : 0\n",
            "Game number:  3400 Score:  0 Best Score:  4 Mean scores:  0.5411764705882353 Number of steps : 39 Fruits : 0\n",
            "Game number:  3500 Score:  1 Best Score:  4 Mean scores:  0.5508571428571428 Number of steps : 34 Fruits : 1\n",
            "Game number:  3600 Score:  0 Best Score:  4 Mean scores:  0.5583333333333333 Number of steps : 17 Fruits : 0\n",
            "Game number:  3700 Score:  0 Best Score:  5 Mean scores:  0.5675675675675675 Number of steps : 92 Fruits : 0\n",
            "Game number:  3800 Score:  0 Best Score:  5 Mean scores:  0.5757894736842105 Number of steps : 66 Fruits : 0\n",
            "Game number:  3900 Score:  0 Best Score:  5 Mean scores:  0.5820512820512821 Number of steps : 47 Fruits : 0\n",
            "Game number:  4000 Score:  0 Best Score:  5 Mean scores:  0.58725 Number of steps : 11 Fruits : 0\n",
            "Game number:  4100 Score:  0 Best Score:  5 Mean scores:  0.5919512195121951 Number of steps : 88 Fruits : 0\n",
            "Game number:  4200 Score:  0 Best Score:  5 Mean scores:  0.5957142857142858 Number of steps : 81 Fruits : 0\n",
            "Game number:  4300 Score:  0 Best Score:  5 Mean scores:  0.6025581395348837 Number of steps : 12 Fruits : 0\n",
            "Game number:  4400 Score:  0 Best Score:  5 Mean scores:  0.6081818181818182 Number of steps : 13 Fruits : 0\n",
            "Game number:  4500 Score:  3 Best Score:  5 Mean scores:  0.6126666666666667 Number of steps : 73 Fruits : 3\n",
            "Game number:  4600 Score:  1 Best Score:  5 Mean scores:  0.6221739130434782 Number of steps : 10 Fruits : 1\n",
            "Game number:  4700 Score:  1 Best Score:  5 Mean scores:  0.6304255319148936 Number of steps : 6 Fruits : 1\n",
            "Game number:  4800 Score:  0 Best Score:  5 Mean scores:  0.6370833333333333 Number of steps : 55 Fruits : 0\n",
            "Game number:  4900 Score:  1 Best Score:  5 Mean scores:  0.6426530612244898 Number of steps : 13 Fruits : 1\n",
            "Game number:  5000 Score:  2 Best Score:  5 Mean scores:  0.6454 Number of steps : 56 Fruits : 2\n"
          ]
        }
      ]
    },
    {
      "cell_type": "markdown",
      "source": [
        "Random initialization of convolutional weights"
      ],
      "metadata": {
        "id": "yIVhFJ9JyQm1"
      }
    },
    {
      "cell_type": "code",
      "source": [
        "n_rows=16\n",
        "n_cols=16\n",
        "model1=ConvQNet2(n_rows,n_cols).to(device)\n",
        "model2=ConvQNet2(n_rows,n_cols).to(device)\n",
        "agent = Agent(lr=0.001,batch_size=10,max_mem=100_000,gamma=0.95,epsilon=0.4,custom_model=model1,target=model2,state_type=2)\n",
        "episode_r_std, reward_std, episodes_std, meanscores_std = train(agent,nbepisodes = 5000 ,state_type=state,save_games=False,eval=False,reward_type = \"standard\",n_rows=n_rows,n_cols=n_cols)\n"
      ],
      "metadata": {
        "colab": {
          "base_uri": "https://localhost:8080/"
        },
        "id": "qbaa3-HSpcp5",
        "outputId": "7553aac4-3d20-407a-94c3-91d5bd672721"
      },
      "execution_count": null,
      "outputs": [
        {
          "output_type": "stream",
          "name": "stdout",
          "text": [
            "Game number:  100 Score:  0 Best Score:  1 Mean scores:  0.11 Number of steps : 36 Fruits : 0\n",
            "Game number:  200 Score:  0 Best Score:  2 Mean scores:  0.17 Number of steps : 101 Fruits : 0\n",
            "Game number:  300 Score:  1 Best Score:  2 Mean scores:  0.15333333333333332 Number of steps : 35 Fruits : 1\n",
            "Game number:  400 Score:  0 Best Score:  2 Mean scores:  0.145 Number of steps : 10 Fruits : 0\n",
            "Game number:  500 Score:  0 Best Score:  2 Mean scores:  0.134 Number of steps : 101 Fruits : 0\n",
            "Game number:  600 Score:  0 Best Score:  2 Mean scores:  0.12833333333333333 Number of steps : 6 Fruits : 0\n",
            "Game number:  700 Score:  0 Best Score:  2 Mean scores:  0.13857142857142857 Number of steps : 11 Fruits : 0\n",
            "Game number:  800 Score:  0 Best Score:  2 Mean scores:  0.145 Number of steps : 47 Fruits : 0\n",
            "Game number:  900 Score:  0 Best Score:  2 Mean scores:  0.14888888888888888 Number of steps : 84 Fruits : 0\n",
            "Game number:  1000 Score:  0 Best Score:  2 Mean scores:  0.149 Number of steps : 66 Fruits : 0\n",
            "Game number:  1100 Score:  0 Best Score:  2 Mean scores:  0.14727272727272728 Number of steps : 62 Fruits : 0\n",
            "Game number:  1200 Score:  0 Best Score:  2 Mean scores:  0.14833333333333334 Number of steps : 43 Fruits : 0\n",
            "Game number:  1300 Score:  0 Best Score:  2 Mean scores:  0.14846153846153845 Number of steps : 12 Fruits : 0\n",
            "Game number:  1400 Score:  0 Best Score:  2 Mean scores:  0.15357142857142858 Number of steps : 31 Fruits : 0\n",
            "Game number:  1500 Score:  0 Best Score:  2 Mean scores:  0.156 Number of steps : 18 Fruits : 0\n",
            "Game number:  1600 Score:  0 Best Score:  2 Mean scores:  0.1575 Number of steps : 39 Fruits : 0\n",
            "Game number:  1700 Score:  0 Best Score:  2 Mean scores:  0.15941176470588236 Number of steps : 11 Fruits : 0\n",
            "Game number:  1800 Score:  0 Best Score:  2 Mean scores:  0.16277777777777777 Number of steps : 21 Fruits : 0\n",
            "Game number:  1900 Score:  0 Best Score:  2 Mean scores:  0.16210526315789472 Number of steps : 26 Fruits : 0\n",
            "Game number:  2000 Score:  0 Best Score:  2 Mean scores:  0.162 Number of steps : 8 Fruits : 0\n",
            "Game number:  2100 Score:  0 Best Score:  2 Mean scores:  0.16380952380952382 Number of steps : 71 Fruits : 0\n",
            "Game number:  2200 Score:  0 Best Score:  2 Mean scores:  0.1668181818181818 Number of steps : 27 Fruits : 0\n",
            "Game number:  2300 Score:  0 Best Score:  2 Mean scores:  0.16652173913043478 Number of steps : 80 Fruits : 0\n",
            "Game number:  2400 Score:  1 Best Score:  2 Mean scores:  0.17291666666666666 Number of steps : 10 Fruits : 1\n",
            "Game number:  2500 Score:  0 Best Score:  2 Mean scores:  0.1716 Number of steps : 38 Fruits : 0\n",
            "Game number:  2600 Score:  0 Best Score:  2 Mean scores:  0.175 Number of steps : 90 Fruits : 0\n",
            "Game number:  2700 Score:  0 Best Score:  2 Mean scores:  0.17555555555555555 Number of steps : 12 Fruits : 0\n",
            "Game number:  2800 Score:  0 Best Score:  2 Mean scores:  0.1757142857142857 Number of steps : 11 Fruits : 0\n",
            "Game number:  2900 Score:  0 Best Score:  2 Mean scores:  0.1782758620689655 Number of steps : 48 Fruits : 0\n",
            "Game number:  3000 Score:  1 Best Score:  2 Mean scores:  0.18066666666666667 Number of steps : 33 Fruits : 1\n",
            "Game number:  3100 Score:  0 Best Score:  2 Mean scores:  0.18064516129032257 Number of steps : 13 Fruits : 0\n",
            "Game number:  3200 Score:  1 Best Score:  2 Mean scores:  0.1840625 Number of steps : 100 Fruits : 1\n",
            "Game number:  3300 Score:  0 Best Score:  2 Mean scores:  0.18606060606060607 Number of steps : 83 Fruits : 0\n",
            "Game number:  3400 Score:  1 Best Score:  2 Mean scores:  0.18911764705882353 Number of steps : 19 Fruits : 1\n",
            "Game number:  3500 Score:  0 Best Score:  2 Mean scores:  0.19314285714285714 Number of steps : 27 Fruits : 0\n",
            "Game number:  3600 Score:  0 Best Score:  2 Mean scores:  0.195 Number of steps : 42 Fruits : 0\n",
            "Game number:  3700 Score:  1 Best Score:  2 Mean scores:  0.1962162162162162 Number of steps : 7 Fruits : 1\n",
            "Game number:  3800 Score:  0 Best Score:  2 Mean scores:  0.19894736842105262 Number of steps : 24 Fruits : 0\n",
            "Game number:  3900 Score:  0 Best Score:  2 Mean scores:  0.2017948717948718 Number of steps : 60 Fruits : 0\n",
            "Game number:  4000 Score:  0 Best Score:  2 Mean scores:  0.2045 Number of steps : 29 Fruits : 0\n",
            "Game number:  4100 Score:  0 Best Score:  2 Mean scores:  0.20878048780487804 Number of steps : 101 Fruits : 0\n",
            "Game number:  4200 Score:  1 Best Score:  2 Mean scores:  0.2119047619047619 Number of steps : 12 Fruits : 1\n",
            "Game number:  4300 Score:  0 Best Score:  2 Mean scores:  0.21395348837209302 Number of steps : 22 Fruits : 0\n",
            "Game number:  4400 Score:  1 Best Score:  2 Mean scores:  0.21636363636363637 Number of steps : 25 Fruits : 1\n",
            "Game number:  4500 Score:  0 Best Score:  2 Mean scores:  0.21688888888888888 Number of steps : 60 Fruits : 0\n",
            "Game number:  4600 Score:  0 Best Score:  2 Mean scores:  0.22217391304347825 Number of steps : 34 Fruits : 0\n",
            "Game number:  4700 Score:  0 Best Score:  2 Mean scores:  0.225531914893617 Number of steps : 72 Fruits : 0\n",
            "Game number:  4800 Score:  1 Best Score:  3 Mean scores:  0.230625 Number of steps : 52 Fruits : 1\n",
            "Game number:  4900 Score:  1 Best Score:  3 Mean scores:  0.23448979591836736 Number of steps : 3 Fruits : 1\n",
            "Game number:  5000 Score:  0 Best Score:  3 Mean scores:  0.2378 Number of steps : 35 Fruits : 0\n"
          ]
        }
      ]
    },
    {
      "cell_type": "code",
      "source": [
        "plt.plot(episodes_std, meanscores_std,label = \"Random Initialization\")\n",
        "plt.plot(episodes,meanscores,label = \"Initialization with 8*8 model\")\n",
        "plt.xlabel('Episodes')\n",
        "plt.ylabel('Mean Scores')\n",
        "plt.title('Generalization of 8*8 model to a 16*16 model')\n",
        "plt.legend()\n",
        "plt.show()"
      ],
      "metadata": {
        "colab": {
          "base_uri": "https://localhost:8080/",
          "height": 472
        },
        "id": "gF2qMcQe0lJ4",
        "outputId": "c1c97623-5195-4100-a0a7-da12d938dc21"
      },
      "execution_count": null,
      "outputs": [
        {
          "output_type": "display_data",
          "data": {
            "text/plain": [
              "<Figure size 640x480 with 1 Axes>"
            ],
            "image/png": "[encoded data removed]"
          },
          "metadata": {}
        }
      ]
    }
  ],
  "metadata": {
    "accelerator": "GPU",
    "colab": {
      "gpuType": "T4",
      "provenance": []
    },
    "kernelspec": {
      "display_name": "Python 3",
      "name": "python3"
    },
    "language_info": {
      "codemirror_mode": {
        "name": "ipython",
        "version": 3
      },
      "file_extension": ".py",
      "mimetype": "text/x-python",
      "name": "python",
      "nbconvert_exporter": "python",
      "pygments_lexer": "ipython3",
      "version": "3.9.13"
    }
  },
  "nbformat": 4,
  "nbformat_minor": 0
}