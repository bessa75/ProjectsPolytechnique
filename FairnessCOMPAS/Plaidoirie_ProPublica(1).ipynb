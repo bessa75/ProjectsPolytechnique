{
 "cells": [
  {
   "cell_type": "markdown",
   "metadata": {
    "id": "cUkR7OVzUYsA"
   },
   "source": [
    "# Plaidoirie ProPublica"
   ]
  },
  {
   "cell_type": "markdown",
   "metadata": {
    "id": "mqjAS0mKKtfm"
   },
   "source": [
    "## Introduction"
   ]
  },
  {
   "cell_type": "markdown",
   "metadata": {
    "id": "26KiaZLXUe7C"
   },
   "source": [
    "Ce notebook vise à contrer la réponse de Northpointe à ProPublica, en réalisant une étude plus poussée. Notre argumentation se fera en 3 temps :\n",
    "- La reprise des critères avancés par ProPublica, montrant un biais net contre les Afro-Américains. Nous démontrerons par ailleurs qu'un tel biais ne peut être expliqué par le grand nombre de jeunes dans la population Afro-Américaine\n",
    "- La réalisation d'un algorithme satisfaisant à la fois les deux critères (predictive parity et equality of odds). Cela prouve que l'argument de Northpointe, consistant à opposer la Predictive Parity à l'Equality of odds, n'est pas recevable.\n",
    "- Une réflexion éthique et juridique sur l'utilisation de ce type d'algorithmes dans le système judiciaire."
   ]
  },
  {
   "cell_type": "markdown",
   "metadata": {
    "id": "1GesG8wDSMc5"
   },
   "source": [
    "### Importation des données sur les détenus"
   ]
  },
  {
   "cell_type": "code",
   "execution_count": null,
   "metadata": {
    "colab": {
     "base_uri": "https://localhost:8080/"
    },
    "id": "1_mRfGetU2Jz",
    "outputId": "ad8e41ac-f868-48bb-bc9e-8137156ae8fd"
   },
   "outputs": [
    {
     "name": "stdout",
     "output_type": "stream",
     "text": [
      "Drive already mounted at /content/drive; to attempt to forcibly remount, call drive.mount(\"/content/drive\", force_remount=True).\n"
     ]
    }
   ],
   "source": [
    "from google.colab import drive\n",
    "drive.mount('/content/drive')"
   ]
  },
  {
   "cell_type": "code",
   "execution_count": null,
   "metadata": {
    "id": "pOg-zmvXTkxp"
   },
   "outputs": [],
   "source": [
    "import warnings\n",
    "warnings.filterwarnings(\"ignore\")"
   ]
  },
  {
   "cell_type": "code",
   "execution_count": null,
   "metadata": {
    "id": "UlQLgkzdVA2k"
   },
   "outputs": [],
   "source": [
    "import matplotlib.pyplot as plt\n",
    "import numpy as np\n",
    "\n",
    "import pandas as pd\n",
    "from collections import Counter"
   ]
  },
  {
   "cell_type": "code",
   "execution_count": null,
   "metadata": {
    "id": "r2M2TRzcwloo"
   },
   "outputs": [],
   "source": [
    "df = pd.read_csv('/content/drive/MyDrive/EA MAP511/compas-scores-two-years.csv')"
   ]
  },
  {
   "cell_type": "code",
   "execution_count": null,
   "metadata": {
    "colab": {
     "base_uri": "https://localhost:8080/",
     "height": 258
    },
    "id": "zRutVo-PzP_x",
    "outputId": "115bbac1-dd48-4e98-daf4-908a8a1cba13"
   },
   "outputs": [
    {
     "data": {
      "text/html": [
       "\n",
       "  <div id=\"df-abcaa896-30e8-4730-9ea9-cc5f26f88128\" class=\"colab-df-container\">\n",
       "    <div>\n",
       "<style scoped>\n",
       "    .dataframe tbody tr th:only-of-type {\n",
       "        vertical-align: middle;\n",
       "    }\n",
       "\n",
       "    .dataframe tbody tr th {\n",
       "        vertical-align: top;\n",
       "    }\n",
       "\n",
       "    .dataframe thead th {\n",
       "        text-align: right;\n",
       "    }\n",
       "</style>\n",
       "<table border=\"1\" class=\"dataframe\">\n",
       "  <thead>\n",
       "    <tr style=\"text-align: right;\">\n",
       "      <th></th>\n",
       "      <th>sex</th>\n",
       "      <th>age</th>\n",
       "      <th>age_cat</th>\n",
       "      <th>race</th>\n",
       "      <th>decile_score</th>\n",
       "      <th>priors_count</th>\n",
       "      <th>score_text</th>\n",
       "      <th>c_charge_degree</th>\n",
       "      <th>two_year_recid</th>\n",
       "      <th>juv_fel_count</th>\n",
       "      <th>juv_misd_count</th>\n",
       "      <th>score_factor</th>\n",
       "    </tr>\n",
       "  </thead>\n",
       "  <tbody>\n",
       "    <tr>\n",
       "      <th>1</th>\n",
       "      <td>Male</td>\n",
       "      <td>34</td>\n",
       "      <td>Between_25_45</td>\n",
       "      <td>African-American</td>\n",
       "      <td>3</td>\n",
       "      <td>0</td>\n",
       "      <td>Low</td>\n",
       "      <td>Felony</td>\n",
       "      <td>1</td>\n",
       "      <td>0</td>\n",
       "      <td>0</td>\n",
       "      <td>0</td>\n",
       "    </tr>\n",
       "    <tr>\n",
       "      <th>2</th>\n",
       "      <td>Male</td>\n",
       "      <td>24</td>\n",
       "      <td>Below_TwentyFive</td>\n",
       "      <td>African-American</td>\n",
       "      <td>4</td>\n",
       "      <td>4</td>\n",
       "      <td>Low</td>\n",
       "      <td>Felony</td>\n",
       "      <td>1</td>\n",
       "      <td>0</td>\n",
       "      <td>0</td>\n",
       "      <td>0</td>\n",
       "    </tr>\n",
       "    <tr>\n",
       "      <th>6</th>\n",
       "      <td>Male</td>\n",
       "      <td>41</td>\n",
       "      <td>Between_25_45</td>\n",
       "      <td>Caucasian</td>\n",
       "      <td>6</td>\n",
       "      <td>14</td>\n",
       "      <td>Medium</td>\n",
       "      <td>Felony</td>\n",
       "      <td>1</td>\n",
       "      <td>0</td>\n",
       "      <td>0</td>\n",
       "      <td>1</td>\n",
       "    </tr>\n",
       "    <tr>\n",
       "      <th>8</th>\n",
       "      <td>Female</td>\n",
       "      <td>39</td>\n",
       "      <td>Between_25_45</td>\n",
       "      <td>Caucasian</td>\n",
       "      <td>1</td>\n",
       "      <td>0</td>\n",
       "      <td>Low</td>\n",
       "      <td>Misdemeanor</td>\n",
       "      <td>0</td>\n",
       "      <td>0</td>\n",
       "      <td>0</td>\n",
       "      <td>0</td>\n",
       "    </tr>\n",
       "    <tr>\n",
       "      <th>10</th>\n",
       "      <td>Male</td>\n",
       "      <td>27</td>\n",
       "      <td>Between_25_45</td>\n",
       "      <td>Caucasian</td>\n",
       "      <td>4</td>\n",
       "      <td>0</td>\n",
       "      <td>Low</td>\n",
       "      <td>Felony</td>\n",
       "      <td>0</td>\n",
       "      <td>0</td>\n",
       "      <td>0</td>\n",
       "      <td>0</td>\n",
       "    </tr>\n",
       "  </tbody>\n",
       "</table>\n",
       "</div>\n",
       "    <div class=\"colab-df-buttons\">\n",
       "\n",
       "  <div class=\"colab-df-container\">\n",
       "    <button class=\"colab-df-convert\" onclick=\"convertToInteractive('df-abcaa896-30e8-4730-9ea9-cc5f26f88128')\"\n",
       "            title=\"Convert this dataframe to an interactive table.\"\n",
       "            style=\"display:none;\">\n",
       "\n",
       "  <svg xmlns=\"http://www.w3.org/2000/svg\" height=\"24px\" viewBox=\"0 -960 960 960\">\n",
       "    <path d=\"M120-120v-720h720v720H120Zm60-500h600v-160H180v160Zm220 220h160v-160H400v160Zm0 220h160v-160H400v160ZM180-400h160v-160H180v160Zm440 0h160v-160H620v160ZM180-180h160v-160H180v160Zm440 0h160v-160H620v160Z\"/>\n",
       "  </svg>\n",
       "    </button>\n",
       "\n",
       "  <style>\n",
       "    .colab-df-container {\n",
       "      display:flex;\n",
       "      gap: 12px;\n",
       "    }\n",
       "\n",
       "    .colab-df-convert {\n",
       "      background-color: #E8F0FE;\n",
       "      border: none;\n",
       "      border-radius: 50%;\n",
       "      cursor: pointer;\n",
       "      display: none;\n",
       "      fill: #1967D2;\n",
       "      height: 32px;\n",
       "      padding: 0 0 0 0;\n",
       "      width: 32px;\n",
       "    }\n",
       "\n",
       "    .colab-df-convert:hover {\n",
       "      background-color: #E2EBFA;\n",
       "      box-shadow: 0px 1px 2px rgba(60, 64, 67, 0.3), 0px 1px 3px 1px rgba(60, 64, 67, 0.15);\n",
       "      fill: #174EA6;\n",
       "    }\n",
       "\n",
       "    .colab-df-buttons div {\n",
       "      margin-bottom: 4px;\n",
       "    }\n",
       "\n",
       "    [theme=dark] .colab-df-convert {\n",
       "      background-color: #3B4455;\n",
       "      fill: #D2E3FC;\n",
       "    }\n",
       "\n",
       "    [theme=dark] .colab-df-convert:hover {\n",
       "      background-color: #434B5C;\n",
       "      box-shadow: 0px 1px 3px 1px rgba(0, 0, 0, 0.15);\n",
       "      filter: drop-shadow(0px 1px 2px rgba(0, 0, 0, 0.3));\n",
       "      fill: #FFFFFF;\n",
       "    }\n",
       "  </style>\n",
       "\n",
       "    <script>\n",
       "      const buttonEl =\n",
       "        document.querySelector('#df-abcaa896-30e8-4730-9ea9-cc5f26f88128 button.colab-df-convert');\n",
       "      buttonEl.style.display =\n",
       "        google.colab.kernel.accessAllowed ? 'block' : 'none';\n",
       "\n",
       "      async function convertToInteractive(key) {\n",
       "        const element = document.querySelector('#df-abcaa896-30e8-4730-9ea9-cc5f26f88128');\n",
       "        const dataTable =\n",
       "          await google.colab.kernel.invokeFunction('convertToInteractive',\n",
       "                                                    [key], {});\n",
       "        if (!dataTable) return;\n",
       "\n",
       "        const docLinkHtml = 'Like what you see? Visit the ' +\n",
       "          '<a target=\"_blank\" href=https://colab.research.google.com/notebooks/data_table.ipynb>data table notebook</a>'\n",
       "          + ' to learn more about interactive tables.';\n",
       "        element.innerHTML = '';\n",
       "        dataTable['output_type'] = 'display_data';\n",
       "        await google.colab.output.renderOutput(dataTable, element);\n",
       "        const docLink = document.createElement('div');\n",
       "        docLink.innerHTML = docLinkHtml;\n",
       "        element.appendChild(docLink);\n",
       "      }\n",
       "    </script>\n",
       "  </div>\n",
       "\n",
       "\n",
       "<div id=\"df-44f14d19-d817-49e9-8990-0834b055eb71\">\n",
       "  <button class=\"colab-df-quickchart\" onclick=\"quickchart('df-44f14d19-d817-49e9-8990-0834b055eb71')\"\n",
       "            title=\"Suggest charts\"\n",
       "            style=\"display:none;\">\n",
       "\n",
       "<svg xmlns=\"http://www.w3.org/2000/svg\" height=\"24px\"viewBox=\"0 0 24 24\"\n",
       "     width=\"24px\">\n",
       "    <g>\n",
       "        <path d=\"M19 3H5c-1.1 0-2 .9-2 2v14c0 1.1.9 2 2 2h14c1.1 0 2-.9 2-2V5c0-1.1-.9-2-2-2zM9 17H7v-7h2v7zm4 0h-2V7h2v10zm4 0h-2v-4h2v4z\"/>\n",
       "    </g>\n",
       "</svg>\n",
       "  </button>\n",
       "\n",
       "<style>\n",
       "  .colab-df-quickchart {\n",
       "      --bg-color: #E8F0FE;\n",
       "      --fill-color: #1967D2;\n",
       "      --hover-bg-color: #E2EBFA;\n",
       "      --hover-fill-color: #174EA6;\n",
       "      --disabled-fill-color: #AAA;\n",
       "      --disabled-bg-color: #DDD;\n",
       "  }\n",
       "\n",
       "  [theme=dark] .colab-df-quickchart {\n",
       "      --bg-color: #3B4455;\n",
       "      --fill-color: #D2E3FC;\n",
       "      --hover-bg-color: #434B5C;\n",
       "      --hover-fill-color: #FFFFFF;\n",
       "      --disabled-bg-color: #3B4455;\n",
       "      --disabled-fill-color: #666;\n",
       "  }\n",
       "\n",
       "  .colab-df-quickchart {\n",
       "    background-color: var(--bg-color);\n",
       "    border: none;\n",
       "    border-radius: 50%;\n",
       "    cursor: pointer;\n",
       "    display: none;\n",
       "    fill: var(--fill-color);\n",
       "    height: 32px;\n",
       "    padding: 0;\n",
       "    width: 32px;\n",
       "  }\n",
       "\n",
       "  .colab-df-quickchart:hover {\n",
       "    background-color: var(--hover-bg-color);\n",
       "    box-shadow: 0 1px 2px rgba(60, 64, 67, 0.3), 0 1px 3px 1px rgba(60, 64, 67, 0.15);\n",
       "    fill: var(--button-hover-fill-color);\n",
       "  }\n",
       "\n",
       "  .colab-df-quickchart-complete:disabled,\n",
       "  .colab-df-quickchart-complete:disabled:hover {\n",
       "    background-color: var(--disabled-bg-color);\n",
       "    fill: var(--disabled-fill-color);\n",
       "    box-shadow: none;\n",
       "  }\n",
       "\n",
       "  .colab-df-spinner {\n",
       "    border: 2px solid var(--fill-color);\n",
       "    border-color: transparent;\n",
       "    border-bottom-color: var(--fill-color);\n",
       "    animation:\n",
       "      spin 1s steps(1) infinite;\n",
       "  }\n",
       "\n",
       "  @keyframes spin {\n",
       "    0% {\n",
       "      border-color: transparent;\n",
       "      border-bottom-color: var(--fill-color);\n",
       "      border-left-color: var(--fill-color);\n",
       "    }\n",
       "    20% {\n",
       "      border-color: transparent;\n",
       "      border-left-color: var(--fill-color);\n",
       "      border-top-color: var(--fill-color);\n",
       "    }\n",
       "    30% {\n",
       "      border-color: transparent;\n",
       "      border-left-color: var(--fill-color);\n",
       "      border-top-color: var(--fill-color);\n",
       "      border-right-color: var(--fill-color);\n",
       "    }\n",
       "    40% {\n",
       "      border-color: transparent;\n",
       "      border-right-color: var(--fill-color);\n",
       "      border-top-color: var(--fill-color);\n",
       "    }\n",
       "    60% {\n",
       "      border-color: transparent;\n",
       "      border-right-color: var(--fill-color);\n",
       "    }\n",
       "    80% {\n",
       "      border-color: transparent;\n",
       "      border-right-color: var(--fill-color);\n",
       "      border-bottom-color: var(--fill-color);\n",
       "    }\n",
       "    90% {\n",
       "      border-color: transparent;\n",
       "      border-bottom-color: var(--fill-color);\n",
       "    }\n",
       "  }\n",
       "</style>\n",
       "\n",
       "  <script>\n",
       "    async function quickchart(key) {\n",
       "      const quickchartButtonEl =\n",
       "        document.querySelector('#' + key + ' button');\n",
       "      quickchartButtonEl.disabled = true;  // To prevent multiple clicks.\n",
       "      quickchartButtonEl.classList.add('colab-df-spinner');\n",
       "      try {\n",
       "        const charts = await google.colab.kernel.invokeFunction(\n",
       "            'suggestCharts', [key], {});\n",
       "      } catch (error) {\n",
       "        console.error('Error during call to suggestCharts:', error);\n",
       "      }\n",
       "      quickchartButtonEl.classList.remove('colab-df-spinner');\n",
       "      quickchartButtonEl.classList.add('colab-df-quickchart-complete');\n",
       "    }\n",
       "    (() => {\n",
       "      let quickchartButtonEl =\n",
       "        document.querySelector('#df-44f14d19-d817-49e9-8990-0834b055eb71 button');\n",
       "      quickchartButtonEl.style.display =\n",
       "        google.colab.kernel.accessAllowed ? 'block' : 'none';\n",
       "    })();\n",
       "  </script>\n",
       "</div>\n",
       "    </div>\n",
       "  </div>\n"
      ],
      "text/plain": [
       "       sex  age           age_cat              race  decile_score  \\\n",
       "1     Male   34     Between_25_45  African-American             3   \n",
       "2     Male   24  Below_TwentyFive  African-American             4   \n",
       "6     Male   41     Between_25_45         Caucasian             6   \n",
       "8   Female   39     Between_25_45         Caucasian             1   \n",
       "10    Male   27     Between_25_45         Caucasian             4   \n",
       "\n",
       "    priors_count score_text c_charge_degree  two_year_recid  juv_fel_count  \\\n",
       "1              0        Low          Felony               1              0   \n",
       "2              4        Low          Felony               1              0   \n",
       "6             14     Medium          Felony               1              0   \n",
       "8              0        Low     Misdemeanor               0              0   \n",
       "10             0        Low          Felony               0              0   \n",
       "\n",
       "    juv_misd_count  score_factor  \n",
       "1                0             0  \n",
       "2                0             0  \n",
       "6                0             1  \n",
       "8                0             0  \n",
       "10               0             0  "
      ]
     },
     "execution_count": 59,
     "metadata": {},
     "output_type": "execute_result"
    }
   ],
   "source": [
    "dd = df[['sex', 'age', 'age_cat', 'race', 'decile_score', 'priors_count', 'score_text', 'c_charge_degree', 'two_year_recid', 'is_recid', 'days_b_screening_arrest',\n",
    "        'juv_fel_count', 'juv_misd_count']].replace({\n",
    "    'Greater than 45':'Above_FourtyFive',\n",
    "    'Less than 25':'Below_TwentyFive',\n",
    "    '25 - 45': 'Between_25_45',\n",
    "    'M':'Misdemeanor',\n",
    "    'F':'Felony'\n",
    "})\n",
    "dd = dd[(dd.days_b_screening_arrest <= 30) & (dd.days_b_screening_arrest >=-30)]\\\n",
    "        .drop(columns=['days_b_screening_arrest','is_recid'])\\\n",
    "        .assign(score_factor = lambda x: x['score_text'].map(lambda y: 1 if y!='Low' else 0))\n",
    "dd = dd[(dd.race=='African-American') | (dd.race=='Caucasian')]\n",
    "dd.head()"
   ]
  },
  {
   "cell_type": "code",
   "execution_count": null,
   "metadata": {
    "colab": {
     "base_uri": "https://localhost:8080/",
     "height": 224
    },
    "id": "LTUJXVmhzQK8",
    "outputId": "764faff0-18b5-46b7-adb7-298dc5a58179"
   },
   "outputs": [
    {
     "data": {
      "text/html": [
       "\n",
       "  <div id=\"df-6035b072-3ed9-43f4-ad29-88caf318dc4b\" class=\"colab-df-container\">\n",
       "    <div>\n",
       "<style scoped>\n",
       "    .dataframe tbody tr th:only-of-type {\n",
       "        vertical-align: middle;\n",
       "    }\n",
       "\n",
       "    .dataframe tbody tr th {\n",
       "        vertical-align: top;\n",
       "    }\n",
       "\n",
       "    .dataframe thead th {\n",
       "        text-align: right;\n",
       "    }\n",
       "</style>\n",
       "<table border=\"1\" class=\"dataframe\">\n",
       "  <thead>\n",
       "    <tr style=\"text-align: right;\">\n",
       "      <th></th>\n",
       "      <th>sex</th>\n",
       "      <th>age</th>\n",
       "      <th>age_cat</th>\n",
       "      <th>race</th>\n",
       "      <th>decile_score</th>\n",
       "      <th>priors_count</th>\n",
       "      <th>two_year_recid</th>\n",
       "      <th>juv_fel_count</th>\n",
       "      <th>juv_misd_count</th>\n",
       "      <th>score_factor</th>\n",
       "      <th>felony</th>\n",
       "      <th>agecat2</th>\n",
       "    </tr>\n",
       "  </thead>\n",
       "  <tbody>\n",
       "    <tr>\n",
       "      <th>1</th>\n",
       "      <td>1</td>\n",
       "      <td>34</td>\n",
       "      <td>Between_25_45</td>\n",
       "      <td>0</td>\n",
       "      <td>3</td>\n",
       "      <td>0</td>\n",
       "      <td>1</td>\n",
       "      <td>0</td>\n",
       "      <td>0</td>\n",
       "      <td>0</td>\n",
       "      <td>1</td>\n",
       "      <td>1</td>\n",
       "    </tr>\n",
       "    <tr>\n",
       "      <th>2</th>\n",
       "      <td>1</td>\n",
       "      <td>24</td>\n",
       "      <td>Below_TwentyFive</td>\n",
       "      <td>0</td>\n",
       "      <td>4</td>\n",
       "      <td>4</td>\n",
       "      <td>1</td>\n",
       "      <td>0</td>\n",
       "      <td>0</td>\n",
       "      <td>0</td>\n",
       "      <td>1</td>\n",
       "      <td>0</td>\n",
       "    </tr>\n",
       "    <tr>\n",
       "      <th>6</th>\n",
       "      <td>1</td>\n",
       "      <td>41</td>\n",
       "      <td>Between_25_45</td>\n",
       "      <td>1</td>\n",
       "      <td>6</td>\n",
       "      <td>14</td>\n",
       "      <td>1</td>\n",
       "      <td>0</td>\n",
       "      <td>0</td>\n",
       "      <td>1</td>\n",
       "      <td>1</td>\n",
       "      <td>1</td>\n",
       "    </tr>\n",
       "    <tr>\n",
       "      <th>8</th>\n",
       "      <td>0</td>\n",
       "      <td>39</td>\n",
       "      <td>Between_25_45</td>\n",
       "      <td>1</td>\n",
       "      <td>1</td>\n",
       "      <td>0</td>\n",
       "      <td>0</td>\n",
       "      <td>0</td>\n",
       "      <td>0</td>\n",
       "      <td>0</td>\n",
       "      <td>0</td>\n",
       "      <td>1</td>\n",
       "    </tr>\n",
       "    <tr>\n",
       "      <th>10</th>\n",
       "      <td>1</td>\n",
       "      <td>27</td>\n",
       "      <td>Between_25_45</td>\n",
       "      <td>1</td>\n",
       "      <td>4</td>\n",
       "      <td>0</td>\n",
       "      <td>0</td>\n",
       "      <td>0</td>\n",
       "      <td>0</td>\n",
       "      <td>0</td>\n",
       "      <td>1</td>\n",
       "      <td>1</td>\n",
       "    </tr>\n",
       "  </tbody>\n",
       "</table>\n",
       "</div>\n",
       "    <div class=\"colab-df-buttons\">\n",
       "\n",
       "  <div class=\"colab-df-container\">\n",
       "    <button class=\"colab-df-convert\" onclick=\"convertToInteractive('df-6035b072-3ed9-43f4-ad29-88caf318dc4b')\"\n",
       "            title=\"Convert this dataframe to an interactive table.\"\n",
       "            style=\"display:none;\">\n",
       "\n",
       "  <svg xmlns=\"http://www.w3.org/2000/svg\" height=\"24px\" viewBox=\"0 -960 960 960\">\n",
       "    <path d=\"M120-120v-720h720v720H120Zm60-500h600v-160H180v160Zm220 220h160v-160H400v160Zm0 220h160v-160H400v160ZM180-400h160v-160H180v160Zm440 0h160v-160H620v160ZM180-180h160v-160H180v160Zm440 0h160v-160H620v160Z\"/>\n",
       "  </svg>\n",
       "    </button>\n",
       "\n",
       "  <style>\n",
       "    .colab-df-container {\n",
       "      display:flex;\n",
       "      gap: 12px;\n",
       "    }\n",
       "\n",
       "    .colab-df-convert {\n",
       "      background-color: #E8F0FE;\n",
       "      border: none;\n",
       "      border-radius: 50%;\n",
       "      cursor: pointer;\n",
       "      display: none;\n",
       "      fill: #1967D2;\n",
       "      height: 32px;\n",
       "      padding: 0 0 0 0;\n",
       "      width: 32px;\n",
       "    }\n",
       "\n",
       "    .colab-df-convert:hover {\n",
       "      background-color: #E2EBFA;\n",
       "      box-shadow: 0px 1px 2px rgba(60, 64, 67, 0.3), 0px 1px 3px 1px rgba(60, 64, 67, 0.15);\n",
       "      fill: #174EA6;\n",
       "    }\n",
       "\n",
       "    .colab-df-buttons div {\n",
       "      margin-bottom: 4px;\n",
       "    }\n",
       "\n",
       "    [theme=dark] .colab-df-convert {\n",
       "      background-color: #3B4455;\n",
       "      fill: #D2E3FC;\n",
       "    }\n",
       "\n",
       "    [theme=dark] .colab-df-convert:hover {\n",
       "      background-color: #434B5C;\n",
       "      box-shadow: 0px 1px 3px 1px rgba(0, 0, 0, 0.15);\n",
       "      filter: drop-shadow(0px 1px 2px rgba(0, 0, 0, 0.3));\n",
       "      fill: #FFFFFF;\n",
       "    }\n",
       "  </style>\n",
       "\n",
       "    <script>\n",
       "      const buttonEl =\n",
       "        document.querySelector('#df-6035b072-3ed9-43f4-ad29-88caf318dc4b button.colab-df-convert');\n",
       "      buttonEl.style.display =\n",
       "        google.colab.kernel.accessAllowed ? 'block' : 'none';\n",
       "\n",
       "      async function convertToInteractive(key) {\n",
       "        const element = document.querySelector('#df-6035b072-3ed9-43f4-ad29-88caf318dc4b');\n",
       "        const dataTable =\n",
       "          await google.colab.kernel.invokeFunction('convertToInteractive',\n",
       "                                                    [key], {});\n",
       "        if (!dataTable) return;\n",
       "\n",
       "        const docLinkHtml = 'Like what you see? Visit the ' +\n",
       "          '<a target=\"_blank\" href=https://colab.research.google.com/notebooks/data_table.ipynb>data table notebook</a>'\n",
       "          + ' to learn more about interactive tables.';\n",
       "        element.innerHTML = '';\n",
       "        dataTable['output_type'] = 'display_data';\n",
       "        await google.colab.output.renderOutput(dataTable, element);\n",
       "        const docLink = document.createElement('div');\n",
       "        docLink.innerHTML = docLinkHtml;\n",
       "        element.appendChild(docLink);\n",
       "      }\n",
       "    </script>\n",
       "  </div>\n",
       "\n",
       "\n",
       "<div id=\"df-53a9659b-6ac2-455f-895b-3e9c2516bf36\">\n",
       "  <button class=\"colab-df-quickchart\" onclick=\"quickchart('df-53a9659b-6ac2-455f-895b-3e9c2516bf36')\"\n",
       "            title=\"Suggest charts\"\n",
       "            style=\"display:none;\">\n",
       "\n",
       "<svg xmlns=\"http://www.w3.org/2000/svg\" height=\"24px\"viewBox=\"0 0 24 24\"\n",
       "     width=\"24px\">\n",
       "    <g>\n",
       "        <path d=\"M19 3H5c-1.1 0-2 .9-2 2v14c0 1.1.9 2 2 2h14c1.1 0 2-.9 2-2V5c0-1.1-.9-2-2-2zM9 17H7v-7h2v7zm4 0h-2V7h2v10zm4 0h-2v-4h2v4z\"/>\n",
       "    </g>\n",
       "</svg>\n",
       "  </button>\n",
       "\n",
       "<style>\n",
       "  .colab-df-quickchart {\n",
       "      --bg-color: #E8F0FE;\n",
       "      --fill-color: #1967D2;\n",
       "      --hover-bg-color: #E2EBFA;\n",
       "      --hover-fill-color: #174EA6;\n",
       "      --disabled-fill-color: #AAA;\n",
       "      --disabled-bg-color: #DDD;\n",
       "  }\n",
       "\n",
       "  [theme=dark] .colab-df-quickchart {\n",
       "      --bg-color: #3B4455;\n",
       "      --fill-color: #D2E3FC;\n",
       "      --hover-bg-color: #434B5C;\n",
       "      --hover-fill-color: #FFFFFF;\n",
       "      --disabled-bg-color: #3B4455;\n",
       "      --disabled-fill-color: #666;\n",
       "  }\n",
       "\n",
       "  .colab-df-quickchart {\n",
       "    background-color: var(--bg-color);\n",
       "    border: none;\n",
       "    border-radius: 50%;\n",
       "    cursor: pointer;\n",
       "    display: none;\n",
       "    fill: var(--fill-color);\n",
       "    height: 32px;\n",
       "    padding: 0;\n",
       "    width: 32px;\n",
       "  }\n",
       "\n",
       "  .colab-df-quickchart:hover {\n",
       "    background-color: var(--hover-bg-color);\n",
       "    box-shadow: 0 1px 2px rgba(60, 64, 67, 0.3), 0 1px 3px 1px rgba(60, 64, 67, 0.15);\n",
       "    fill: var(--button-hover-fill-color);\n",
       "  }\n",
       "\n",
       "  .colab-df-quickchart-complete:disabled,\n",
       "  .colab-df-quickchart-complete:disabled:hover {\n",
       "    background-color: var(--disabled-bg-color);\n",
       "    fill: var(--disabled-fill-color);\n",
       "    box-shadow: none;\n",
       "  }\n",
       "\n",
       "  .colab-df-spinner {\n",
       "    border: 2px solid var(--fill-color);\n",
       "    border-color: transparent;\n",
       "    border-bottom-color: var(--fill-color);\n",
       "    animation:\n",
       "      spin 1s steps(1) infinite;\n",
       "  }\n",
       "\n",
       "  @keyframes spin {\n",
       "    0% {\n",
       "      border-color: transparent;\n",
       "      border-bottom-color: var(--fill-color);\n",
       "      border-left-color: var(--fill-color);\n",
       "    }\n",
       "    20% {\n",
       "      border-color: transparent;\n",
       "      border-left-color: var(--fill-color);\n",
       "      border-top-color: var(--fill-color);\n",
       "    }\n",
       "    30% {\n",
       "      border-color: transparent;\n",
       "      border-left-color: var(--fill-color);\n",
       "      border-top-color: var(--fill-color);\n",
       "      border-right-color: var(--fill-color);\n",
       "    }\n",
       "    40% {\n",
       "      border-color: transparent;\n",
       "      border-right-color: var(--fill-color);\n",
       "      border-top-color: var(--fill-color);\n",
       "    }\n",
       "    60% {\n",
       "      border-color: transparent;\n",
       "      border-right-color: var(--fill-color);\n",
       "    }\n",
       "    80% {\n",
       "      border-color: transparent;\n",
       "      border-right-color: var(--fill-color);\n",
       "      border-bottom-color: var(--fill-color);\n",
       "    }\n",
       "    90% {\n",
       "      border-color: transparent;\n",
       "      border-bottom-color: var(--fill-color);\n",
       "    }\n",
       "  }\n",
       "</style>\n",
       "\n",
       "  <script>\n",
       "    async function quickchart(key) {\n",
       "      const quickchartButtonEl =\n",
       "        document.querySelector('#' + key + ' button');\n",
       "      quickchartButtonEl.disabled = true;  // To prevent multiple clicks.\n",
       "      quickchartButtonEl.classList.add('colab-df-spinner');\n",
       "      try {\n",
       "        const charts = await google.colab.kernel.invokeFunction(\n",
       "            'suggestCharts', [key], {});\n",
       "      } catch (error) {\n",
       "        console.error('Error during call to suggestCharts:', error);\n",
       "      }\n",
       "      quickchartButtonEl.classList.remove('colab-df-spinner');\n",
       "      quickchartButtonEl.classList.add('colab-df-quickchart-complete');\n",
       "    }\n",
       "    (() => {\n",
       "      let quickchartButtonEl =\n",
       "        document.querySelector('#df-53a9659b-6ac2-455f-895b-3e9c2516bf36 button');\n",
       "      quickchartButtonEl.style.display =\n",
       "        google.colab.kernel.accessAllowed ? 'block' : 'none';\n",
       "    })();\n",
       "  </script>\n",
       "</div>\n",
       "    </div>\n",
       "  </div>\n"
      ],
      "text/plain": [
       "    sex  age           age_cat  race  decile_score  priors_count  \\\n",
       "1     1   34     Between_25_45     0             3             0   \n",
       "2     1   24  Below_TwentyFive     0             4             4   \n",
       "6     1   41     Between_25_45     1             6            14   \n",
       "8     0   39     Between_25_45     1             1             0   \n",
       "10    1   27     Between_25_45     1             4             0   \n",
       "\n",
       "    two_year_recid  juv_fel_count  juv_misd_count  score_factor  felony  \\\n",
       "1                1              0               0             0       1   \n",
       "2                1              0               0             0       1   \n",
       "6                1              0               0             1       1   \n",
       "8                0              0               0             0       0   \n",
       "10               0              0               0             0       1   \n",
       "\n",
       "    agecat2  \n",
       "1         1  \n",
       "2         0  \n",
       "6         1  \n",
       "8         1  \n",
       "10        1  "
      ]
     },
     "execution_count": 60,
     "metadata": {},
     "output_type": "execute_result"
    }
   ],
   "source": [
    "dd = dd.assign(\n",
    "    race = lambda x: (x['race'] == 'Caucasian')*1,\n",
    "    sex = lambda x: (x.sex == 'Male')*1,\n",
    "    felony = lambda x: (x.c_charge_degree == 'Felony')*1,\n",
    "    agecat2 = lambda x: (x['age']>=25)*1\n",
    "         ).drop(columns = ['score_text', 'c_charge_degree'])\n",
    "\n",
    "X = dd.drop(columns = ['race', 'score_factor', 'decile_score'])\n",
    "A = dd.race\n",
    "y = dd.score_factor\n",
    "\n",
    "n_features = X.shape[1]\n",
    "dd.head()"
   ]
  },
  {
   "cell_type": "markdown",
   "metadata": {
    "id": "D6L1LMi0SsbB"
   },
   "source": [
    "## 1. Étude de l'algorithme COMPAS"
   ]
  },
  {
   "cell_type": "markdown",
   "metadata": {
    "id": "q4l0hLVpN7kU"
   },
   "source": [
    "Le premier point que nous souhaitions rappeler est qu'il existe des disparités très fortes dans le traitement des Caucasiens et des Afro-Américains par l'algorithme COMPAS, ce que nous allons montrer ci-dessous en étudiant la distribution des scores."
   ]
  },
  {
   "cell_type": "markdown",
   "metadata": {
    "id": "4CfXFyAZScNa"
   },
   "source": [
    "### 1.1. Tracé des distributions de scores"
   ]
  },
  {
   "cell_type": "markdown",
   "metadata": {
    "id": "dSEJ4YOWaRSH"
   },
   "source": [
    "##### **Tracés généraux en fonction de l'origine ethnique**"
   ]
  },
  {
   "cell_type": "markdown",
   "metadata": {
    "id": "MrHJeUpjY2M2"
   },
   "source": [
    "Traçons tout d'abord les distributions de score conditionnellement à l'ethnicité."
   ]
  },
  {
   "cell_type": "code",
   "execution_count": null,
   "metadata": {
    "colab": {
     "base_uri": "https://localhost:8080/",
     "height": 54
    },
    "id": "mdba9mbIVTCW",
    "outputId": "3be7a8f5-7f01-4d0d-a4b9-4f2e2339a011"
   },
   "outputs": [
    {
     "data": {
      "image/png": "[encoded data removed]",
      "text/plain": [
       "<Figure size 1200x400 with 2 Axes>"
      ]
     },
     "metadata": {},
     "output_type": "display_data"
    }
   ],
   "source": [
    "df_black = dd[dd['race'] == 0]\n",
    "df_white = dd[dd['race'] == 1]\n",
    "\n",
    "fig, (ax1, ax2) = plt.subplots(1, 2, figsize=(12, 4))\n",
    "\n",
    "ax1.hist(df_black['decile_score'], bins=10, color='b', alpha=0.7,rwidth=0.9)\n",
    "ax1.set_xlabel('Decile Score')\n",
    "ax1.set_ylabel('Count')\n",
    "ax1.set_title(\"Afro-American Defendant's Decile Scores\")\n",
    "ax1.set_ylim(0,700)\n",
    "\n",
    "ax2.hist(df_white['decile_score'], bins=10, color='r', alpha=0.7,rwidth=0.9)\n",
    "ax2.set_xlabel('Decile Score')\n",
    "ax2.set_ylabel('Count')\n",
    "ax2.set_title(\"Caucasian Defendant's Decile Scores\")\n",
    "ax2.set_ylim(0,700)\n",
    "\n",
    "plt.tight_layout()\n",
    "\n",
    "plt.show()"
   ]
  },
  {
   "cell_type": "markdown",
   "metadata": {
    "id": "p8k1QC3IeSs9"
   },
   "source": [
    "On observe une différence frappante entre les deux distributions qui témoigne d'un biais net contre les Afro-Américains, biais qui sera quantifié plus en détail par la suite grâce à des critères objectifs. En effet, on attribue aux Caucasiens des scores beaucoup plus bas qu'aux Afro-Américains."
   ]
  },
  {
   "cell_type": "markdown",
   "metadata": {
    "id": "rusO7H6zaU-U"
   },
   "source": [
    "####**Tracés parmi les récidivants et non-récidivants**"
   ]
  },
  {
   "cell_type": "markdown",
   "metadata": {
    "id": "2cT_5uUoY-Ex"
   },
   "source": [
    "Traçons maintenant les distributions de scores conditionnellement à l'origine ethnique et à la récidive \"réelle\" (si la personne a récidivé ou non au bout de 2 ans)."
   ]
  },
  {
   "cell_type": "code",
   "execution_count": null,
   "metadata": {
    "colab": {
     "base_uri": "https://localhost:8080/",
     "height": 71
    },
    "id": "sZJQ0ISiB2K-",
    "outputId": "f39bc614-837a-4630-e0ac-052df0bef9ac"
   },
   "outputs": [
    {
     "data": {
      "image/png": "[encoded data removed]",
      "text/plain": [
       "<Figure size 1200x400 with 2 Axes>"
      ]
     },
     "metadata": {},
     "output_type": "display_data"
    },
    {
     "data": {
      "image/png": "[encoded data removed]",
      "text/plain": [
       "<Figure size 1200x400 with 2 Axes>"
      ]
     },
     "metadata": {},
     "output_type": "display_data"
    }
   ],
   "source": [
    "df_black = dd[dd['race'] == 0][dd['two_year_recid']==0]\n",
    "df_white = dd[dd['race'] == 1][dd['two_year_recid']==0]\n",
    "\n",
    "fig, (ax1, ax2) = plt.subplots(1, 2, figsize=(12, 4))\n",
    "\n",
    "ax1.hist(df_black['decile_score'], bins=10, color='b', alpha=0.7,rwidth=0.9)\n",
    "ax1.set_xlabel('Decile Score')\n",
    "ax1.set_ylabel('Count')\n",
    "ax1.set_title(\"Afro-American Non-Recidivant's Decile Scores\")\n",
    "ax1.set_ylim(0,500)\n",
    "\n",
    "ax2.hist(df_white['decile_score'], bins=10, color='r', alpha=0.7,rwidth=0.9)\n",
    "ax2.set_xlabel('Decile Score')\n",
    "ax2.set_ylabel('Count')\n",
    "ax2.set_title(\"Caucasian Non-Recidivant's Decile Scores\")\n",
    "ax2.set_ylim(0, 500) #600*len(df_white)/len(df_black))\n",
    "plt.tight_layout()\n",
    "\n",
    "plt.show()\n",
    "df_black = dd[dd['race'] == 0][dd['two_year_recid']==1]\n",
    "df_white = dd[dd['race'] == 1][dd['two_year_recid']==1]\n",
    "\n",
    "fig, (ax1, ax2) = plt.subplots(1, 2, figsize=(12, 4))\n",
    "\n",
    "ax1.hist(df_black['decile_score'], bins=10, color='b', alpha=0.7,rwidth=0.9)\n",
    "ax1.set_xlabel('Decile Score')\n",
    "ax1.set_ylabel('Count')\n",
    "ax1.set_title(\"Afro-American Recidivant's Decile Scores\")\n",
    "ax1.set_ylim(0,300)\n",
    "\n",
    "ax2.hist(df_white['decile_score'], bins=10, color='r', alpha=0.7,rwidth=0.9)\n",
    "ax2.set_xlabel('Decile Score')\n",
    "ax2.set_ylabel('Count')\n",
    "ax2.set_title(\"Caucasian Recidivant's Decile Scores\")\n",
    "ax2.set_ylim(0,300) #*len(df_white)/len(df_black))\n",
    "\n",
    "plt.tight_layout()\n",
    "\n",
    "plt.show()"
   ]
  },
  {
   "cell_type": "markdown",
   "metadata": {
    "id": "l3QMCtXJeekB"
   },
   "source": [
    "Encore une fois, les différences de profils demeurent nettes, même en conditionnant par rapport à la récidive réelle. Ainsi, on observe un traitement différencié des Afro-Américains par rapport aux Caucasiens. Nous quantifierons cette différence de traitement par la suite, en utilisant différents critères de fairness notamment les critères de predictive parity et d'equality of odds."
   ]
  },
  {
   "cell_type": "markdown",
   "metadata": {
    "id": "0GNR_tn3Snmn"
   },
   "source": [
    "### 1.2. Calcul des critères de fairness"
   ]
  },
  {
   "cell_type": "markdown",
   "metadata": {
    "id": "20nWn4XoQfs8"
   },
   "source": [
    "Afin de quantifier la différence de traitement de l'algorithme COMPAS entre les Afro-Américains et les Caucasiens, nous pouvons nous baser sur différents critères de fairness dont nous rappelons les définitions ci-après."
   ]
  },
  {
   "cell_type": "markdown",
   "metadata": {
    "id": "mwBDJ7CIZj_g"
   },
   "source": [
    "*Définitions*\n",
    "\n",
    "- **Critère Propublica** : probabilité du score sachant le statut de récidive (encore une fois, on peut regarder deux probabilités, celle sachant que la personne a récidivé, et celle sachant que la personne n'a pas récidivé).\n",
    "- **Critère Northpointe** : probabilité de récidiver sachant le score (on peut donc regarder deux probabilités différentes, celle sachant que le score est élevé et celle sachant que le score est bas)\n",
    "\n",
    "Ces deux critères correspondent à deux mesures de fairness qui sont :\n",
    "- **Equality of odds** : la FPC et la FNC sont égales entre les différents groupes où **FPC** est la false positive classification (parmi ceux qui n'ont pas récidivé, ceux qui ont été classés haut risque) et **FNC** est la false negative classification (parmi ceux qui ont récidivé, ceux qui ont été classés bas risque). Cf. partie 2.4 pour une définition précise.\n",
    "- **Predictive parity** : la FPP et la FNP sont égales entre les différents groupes où **FPP** est la false positive prediction (parmi ceux classés haut risque, ceux qui n’ont pas récidivé) et **FNP** est la false negative prediction (parmi ceux classés bas risque, ceux qui ont récidivé).\n",
    "\n",
    "Propublica et Northpointe regardent donc deux critères distincts pour mesurer la fairness de l'algorithme COMPAS.\n",
    "\n",
    "Un autre critère est très utilisé :\n",
    "- **Disparate Impact** : ratio des probabilités d'être classé récidivant pour les afro-américains et pour les caucasiens. Autrement dit, la probabilité d'être classé récidivant pour un afro-américain, sur celle pour un caucasien."
   ]
  },
  {
   "cell_type": "markdown",
   "metadata": {
    "id": "8WhZXo-3RB0R"
   },
   "source": [
    "#### **Disparate impact**"
   ]
  },
  {
   "cell_type": "code",
   "execution_count": null,
   "metadata": {
    "colab": {
     "base_uri": "https://localhost:8080/"
    },
    "id": "QV5nQCjIRAGz",
    "outputId": "59b1526a-b043-44c1-f9d1-3a0af1ed7f37"
   },
   "outputs": [
    {
     "name": "stdout",
     "output_type": "stream",
     "text": [
      "Accuracy : 65.82%\n"
     ]
    }
   ],
   "source": [
    "accuracy=np.mean(np.abs(np.array(dd['two_year_recid'])-np.array(dd['score_factor'])))\n",
    "print(\"Accuracy : %.2f%%\" % (100*(1-accuracy)))"
   ]
  },
  {
   "cell_type": "code",
   "execution_count": null,
   "metadata": {
    "colab": {
     "base_uri": "https://localhost:8080/"
    },
    "id": "U36lfjvjdD2G",
    "outputId": "aa6ce5a3-7866-40e4-9f76-d6c7a4e5d415"
   },
   "outputs": [
    {
     "name": "stdout",
     "output_type": "stream",
     "text": [
      "Disparate impact réel : 1.34\n",
      "Disparate impact algorithmique : 1.74\n"
     ]
    }
   ],
   "source": [
    "df_black = dd[dd['race'] == 0]\n",
    "df_white=dd[dd['race']==1]\n",
    "dispimpact=(np.sum(df_black['two_year_recid'])/len(df_black['two_year_recid']))/(np.sum(df_white['two_year_recid'])/len(df_white['two_year_recid']))\n",
    "dispimpactalgo=(np.sum(df_black['score_factor'])/len(df_black['score_factor']))/(np.sum(df_white['score_factor'])/len(df_white['score_factor']))\n",
    "\n",
    "print(\"Disparate impact réel : {:.2f}\".format(dispimpact))\n",
    "print(\"Disparate impact algorithmique : {:.2f}\".format(dispimpactalgo))"
   ]
  },
  {
   "cell_type": "markdown",
   "metadata": {
    "id": "jQCXWcavhliw"
   },
   "source": [
    "Dans la réalité (c'est-à-dire en regardant au bout de deux ans qui a récidivé ou non), un Afro-Américain a 1,34 fois plus de chance qu'un Caucasien de récidiver. Mais, dans l'algorithme COMPAS, un Afro-Américain a 1,74 fois plus de chance d'être classé haut risque. Le critère de disparate impact est donc loin d'être respecté."
   ]
  },
  {
   "cell_type": "markdown",
   "metadata": {
    "id": "NaN4qw4yTq5R"
   },
   "source": [
    "#### **Critère Northpointe : predictive parity**"
   ]
  },
  {
   "cell_type": "code",
   "execution_count": null,
   "metadata": {
    "colab": {
     "base_uri": "https://localhost:8080/"
    },
    "id": "9AjuXBvWTvWX",
    "outputId": "8bf2e60b-3182-491d-d2f5-077164299d5f"
   },
   "outputs": [
    {
     "name": "stdout",
     "output_type": "stream",
     "text": [
      "\u001b[1mAll defendants\u001b[0m\n",
      "\n",
      "Share of defendants who recidivated among those classified low risk:\n",
      "Among Afro-Americans : 35.14%,   error : 2.55%\n",
      "Among Caucasians : 29.00%,   error : 2.37%\n",
      "\n",
      "Share of defendants who recidivated among those classified high risk:\n",
      "Among Afro-Americans : 64.95%,   error : 2.19%\n",
      "Among Caucasians : 59.48%,   error : 3.65%\n"
     ]
    }
   ],
   "source": [
    "def npcriteria1(data1,data2,two_year_recid=\"two_year_recid\",score_factor=\"score_factor\"):\n",
    "  data1recid=data1[data1[\"score_factor\"]==0]\n",
    "  nb1=Counter(data1recid[\"two_year_recid\"])\n",
    "  npcriteria1=nb1[1]/len(data1recid)\n",
    "  data2recid=data2[data2[\"score_factor\"]==0]\n",
    "  nb2=Counter(data2recid[\"two_year_recid\"])\n",
    "  npcriteria2=nb2[1]/len(data2recid)\n",
    "  print(\"Share of defendants who recidivated among those classified low risk:\")\n",
    "  print(\"Among Afro-Americans : %.2f%%,  \" % (100*npcriteria1), \"error : %.2f%%\" % (100*1.96*np.sqrt(npcriteria1*(1-npcriteria1)/len(data1recid))))\n",
    "  print(\"Among Caucasians : %.2f%%,  \" % (100*npcriteria2), \"error : %.2f%%\" % (100*1.96*np.sqrt(npcriteria2*(1-npcriteria2)/len(data2recid))))\n",
    "\n",
    "def npcriteria2(data1,data2,two_year_recid=\"two_year_recid\",score_factor=\"score_factor\"):\n",
    "  data1recid=data1[data1[\"score_factor\"]==1]\n",
    "  nb1=Counter(data1recid[\"two_year_recid\"])\n",
    "  npcriteria1=nb1[1]/len(data1recid)\n",
    "  data2recid=data2[data2[\"score_factor\"]==1]\n",
    "  nb2=Counter(data2recid[\"two_year_recid\"])\n",
    "  npcriteria2=nb2[1]/len(data2recid)\n",
    "  print(\"Share of defendants who recidivated among those classified high risk:\")\n",
    "  print(\"Among Afro-Americans : %.2f%%,  \" % (100*npcriteria1), \"error : %.2f%%\" % (100*1.96*np.sqrt(npcriteria1*(1-npcriteria1)/len(data1recid))))\n",
    "  print(\"Among Caucasians : %.2f%%,  \" % (100*npcriteria2), \"error : %.2f%%\" % (100*1.96*np.sqrt(npcriteria2*(1-npcriteria2)/len(data2recid))))\n",
    "\n",
    "print(\"\\033[1mAll defendants\\033[0m\")\n",
    "print(\"\")\n",
    "npcriteria1(dd[dd['race']==0],dd[dd['race']==1])\n",
    "print(\"\")\n",
    "npcriteria2(dd[dd['race']==0],dd[dd['race']==1])"
   ]
  },
  {
   "cell_type": "markdown",
   "metadata": {
    "id": "Rj0VIjHPT05J"
   },
   "source": [
    "Le critère utilisé par Northpointe est relativement respecté, ce qui est cohérent car il a été utilisé comme réponse dans leur plaidoirie. Toutefois, on peut noter que celui-ci n'est pas parfait."
   ]
  },
  {
   "cell_type": "markdown",
   "metadata": {
    "id": "XDySNXB6afOI"
   },
   "source": [
    "#### **Critère ProPublica : equality of odds**"
   ]
  },
  {
   "cell_type": "code",
   "execution_count": null,
   "metadata": {
    "colab": {
     "base_uri": "https://localhost:8080/"
    },
    "id": "8R1yl0azVyqQ",
    "outputId": "74a2456e-5a36-407f-a997-caa7dd79a0b5"
   },
   "outputs": [
    {
     "name": "stdout",
     "output_type": "stream",
     "text": [
      "\u001b[1mAll defendants\u001b[0m\n",
      "\n",
      "Share of defendants classified high risk among non-recidivants:\n",
      "Among Afro-Americans : 42.34%,   error : 2.49%\n",
      "Among Caucasians : 22.01%,   error : 2.27%\n",
      "\n",
      "Share of defendants classified high risk among recidivants:\n",
      "Among Afro-Americans : 71.52% error : 2.17%\n",
      "Among Caucasians : 50.36% error : 3.42%\n"
     ]
    }
   ],
   "source": [
    "def ppcriteria1(data1,data2,two_year_recid=\"two_year_recid\",score_factor=\"score_factor\"):\n",
    "  data1recid=data1[data1[two_year_recid]==0]\n",
    "  nb1=Counter(data1recid[\"score_factor\"])\n",
    "  ppcriteria1=nb1[1]/len(data1recid)\n",
    "  data2recid=data2[data2[two_year_recid]==0]\n",
    "  nb2=Counter(data2recid[\"score_factor\"])\n",
    "  ppcriteria2=nb2[1]/len(data2recid)\n",
    "  print(\"Share of defendants classified high risk among non-recidivants:\")\n",
    "  print(\"Among Afro-Americans : %.2f%%,  \" % (100*ppcriteria1), \"error : %.2f%%\" % (100*1.96*np.sqrt(ppcriteria1*(1-ppcriteria1)/len(data1recid))))\n",
    "  print(\"Among Caucasians : %.2f%%,  \" % (100*ppcriteria2), \"error : %.2f%%\" % (100*1.96*np.sqrt(ppcriteria2*(1-ppcriteria2)/len(data2recid))))\n",
    "\n",
    "def ppcriteria2(data1,data2,two_year_recid=\"two_year_recid\",score_factor=\"score_factor\"):\n",
    "  data1recid=data1[data1[two_year_recid]==1]\n",
    "  nb1=Counter(data1recid[score_factor])\n",
    "  ppcriteria1=nb1[1]/len(data1recid)\n",
    "  data2recid=data2[data2[two_year_recid]==1]\n",
    "  nb2=Counter(data2recid[score_factor])\n",
    "  ppcriteria2=nb2[1]/len(data2recid)\n",
    "  print(\"Share of defendants classified high risk among recidivants:\")\n",
    "  print(\"Among Afro-Americans : %.2f%%\" % (100*ppcriteria1), \"error : %.2f%%\" % (100*1.96*np.sqrt(ppcriteria1*(1-ppcriteria1)/len(data1recid))))\n",
    "  print(\"Among Caucasians : %.2f%%\" % (100*ppcriteria2), \"error : %.2f%%\" % (100*1.96*np.sqrt(ppcriteria2*(1-ppcriteria2)/len(data2recid))))\n",
    "\n",
    "print(\"\\033[1mAll defendants\\033[0m\")\n",
    "print(\"\")\n",
    "ppcriteria1(dd[dd['race']==0],dd[dd['race']==1])\n",
    "print(\"\")\n",
    "ppcriteria2(dd[dd['race']==0],dd[dd['race']==1])\n"
   ]
  },
  {
   "cell_type": "markdown",
   "metadata": {
    "id": "DPul0y5CemTN"
   },
   "source": [
    "Au global, le critère d'equality of odds n'est absolument pas respecté avec des différences de l'ordre de 20% non-expliquées par les incertitudes.\n",
    "\n",
    "En effet, un non-récidivant Afro-Américain a 42% de chance d'être classé à haut risque, contre 22% pour un non-récidivant Caucasien.\n",
    "Un récidivant Afro-Américain a 72% de chance d'être classé à haut risque, contre 50,4% pour un récidivant Caucasien."
   ]
  },
  {
   "cell_type": "markdown",
   "metadata": {
    "id": "d9TAmb4eT71q"
   },
   "source": [
    "### 1.3. Une question d'âge ?"
   ]
  },
  {
   "cell_type": "markdown",
   "metadata": {
    "id": "D0nlN9KjV2Uw"
   },
   "source": [
    "Une des réponses de Northpointe à notre argumentaire était de dire que les différences observées s'expliquaient par l'effet de d'autres variables, notamment l'âge. L'âge jouant un rôle important dans le score et les Afro-Américains ayant une population plus jeune que les Caucasiens, les Afro-Américains seraient davantage discriminés, non pas à cause de leur origine ethnique, mais à cause de leur âge. Cependant, cet argument n'est pas si clair.\n",
    "\n",
    "En effet, même si les différences disparaissent lorsqu'on regarde les moins de 25 ans, pour le reste de la population (> 25 ans), il reste des différences, différences qui ne peuvent plus s'expliquer par l'âge. Nous pouvons vérifier cela en calculant l'equality of odds et la predictive parity pour les jeunes et pour le reste de la population, et en traçant la distribution des scores."
   ]
  },
  {
   "cell_type": "markdown",
   "metadata": {
    "id": "tLoT4ZpPWuXp"
   },
   "source": [
    "##### **Predictive parity**"
   ]
  },
  {
   "cell_type": "code",
   "execution_count": null,
   "metadata": {
    "colab": {
     "base_uri": "https://localhost:8080/"
    },
    "id": "me4WxIohUAyX",
    "outputId": "e020a666-4ce5-46d3-8979-3b5ef97ef513"
   },
   "outputs": [
    {
     "name": "stdout",
     "output_type": "stream",
     "text": [
      "\u001b[1mYounger (< 25 years)\u001b[0m\n",
      "\n",
      "Share of defendants who recidivated among those classified low risk:\n",
      "Among Afro-Americans : 48.40%,   error : 6.19%\n",
      "Among Caucasians : 33.33%,   error : 7.87%\n",
      "\n",
      "Share of defendants who recidivated among those classified high risk:\n",
      "Among Afro-Americans : 66.19%,   error : 3.92%\n",
      "Among Caucasians : 58.85%,   error : 6.67%\n",
      "\n",
      "\n",
      "\u001b[1mOlder (> 25 years)\u001b[0m\n",
      "\n",
      "Share of defendants who recidivated among those classified low risk:\n",
      "Among Afro-Americans : 32.12%,   error : 2.76%\n",
      "Among Caucasians : 28.53%,   error : 2.48%\n",
      "\n",
      "Share of defendants who recidivated among those classified high risk:\n",
      "Among Afro-Americans : 64.41%,   error : 2.63%\n",
      "Among Caucasians : 59.75%,   error : 4.36%\n"
     ]
    }
   ],
   "source": [
    "print(\"\\033[1mYounger (< 25 years)\\033[0m\")\n",
    "print(\"\")\n",
    "npcriteria1(dd[dd['agecat2']==0][dd['race']==0],dd[dd['agecat2']==0][dd['race']==1])\n",
    "print(\"\")\n",
    "npcriteria2(dd[dd['agecat2']==0][dd['race']==0],dd[dd['agecat2']==0][dd['race']==1])\n",
    "print(\"\")\n",
    "print(\"\")\n",
    "print(\"\\033[1mOlder (> 25 years)\\033[0m\")\n",
    "print(\"\")\n",
    "npcriteria1(dd[dd['agecat2']==1][dd['race']==0],dd[dd['agecat2']==1][dd['race']==1])\n",
    "print(\"\")\n",
    "npcriteria2(dd[dd['agecat2']==1][dd['race']==0],dd[dd['agecat2']==1][dd['race']==1])"
   ]
  },
  {
   "cell_type": "markdown",
   "metadata": {
    "id": "n1n7rb3UW2ll"
   },
   "source": [
    "##### **Equality of odds**"
   ]
  },
  {
   "cell_type": "code",
   "execution_count": null,
   "metadata": {
    "colab": {
     "base_uri": "https://localhost:8080/"
    },
    "id": "6CxSLREYW6_w",
    "outputId": "0dbd4a2c-3f0b-411d-e341-866f3912b8de"
   },
   "outputs": [
    {
     "name": "stdout",
     "output_type": "stream",
     "text": [
      "\u001b[1mYounger (< 25 years)\u001b[0m\n",
      "\n",
      "Share of defendants classified high risk among non-recidivants:\n",
      "Among Afro-Americans : 59.43%,   error : 5.40%\n",
      "Among Caucasians : 48.31%,   error : 7.34%\n",
      "\n",
      "Share of defendants classified high risk among recidivants:\n",
      "Among Afro-Americans : 75.36% error : 3.81%\n",
      "Among Caucasians : 72.78% error : 6.71%\n",
      "\n",
      "\n",
      "\u001b[1mOlder (> 25 years)\u001b[0m\n",
      "\n",
      "Share of defendants classified high risk among non-recidivants:\n",
      "Among Afro-Americans : 37.79%,   error : 2.75%\n",
      "Among Caucasians : 17.77%,   error : 2.26%\n",
      "\n",
      "Share of defendants classified high risk among recidivants:\n",
      "Among Afro-Americans : 69.91% error : 2.63%\n",
      "Among Caucasians : 44.56% error : 3.81%\n"
     ]
    }
   ],
   "source": [
    "print(\"\\033[1mYounger (< 25 years)\\033[0m\")\n",
    "print(\"\")\n",
    "ppcriteria1(dd[dd['agecat2']==0][dd['race']==0],dd[dd['agecat2']==0][dd['race']==1])\n",
    "print(\"\")\n",
    "ppcriteria2(dd[dd['agecat2']==0][dd['race']==0],dd[dd['agecat2']==0][dd['race']==1])\n",
    "print(\"\")\n",
    "print(\"\")\n",
    "print(\"\\033[1mOlder (> 25 years)\\033[0m\")\n",
    "print(\"\")\n",
    "ppcriteria1(dd[dd['agecat2']==1][dd['race']==0],dd[dd['agecat2']==1][dd['race']==1])\n",
    "print(\"\")\n",
    "ppcriteria2(dd[dd['agecat2']==1][dd['race']==0],dd[dd['agecat2']==1][dd['race']==1])"
   ]
  },
  {
   "cell_type": "markdown",
   "metadata": {
    "id": "aEzuu6VjYsh_"
   },
   "source": [
    "Ainsi, lorsqu'on conditionne par l'âge, les jeunes vérifient effectivement le critère de Propublica. Mais, on retrouve des biais pour les plus de 25 ans, ce qui montre que ces biais ne peuvent être expliqués par une prédominance de jeunes parmi les Afro-Américains."
   ]
  },
  {
   "cell_type": "markdown",
   "metadata": {
    "id": "WWorC0eRW7Uy"
   },
   "source": [
    "##### **Distribution des scores**"
   ]
  },
  {
   "cell_type": "markdown",
   "metadata": {
    "id": "KCrIGHZgZdga"
   },
   "source": [
    "Nous pouvons visualiser ça en traçant la distribution des scores pour les plus de 25 ans. Des différences flagrantes demeurent."
   ]
  },
  {
   "cell_type": "code",
   "execution_count": null,
   "metadata": {
    "colab": {
     "base_uri": "https://localhost:8080/",
     "height": 54
    },
    "id": "5qJyoUDZW93g",
    "outputId": "467f73ca-7fcf-499a-efff-3f50ecd04178"
   },
   "outputs": [
    {
     "data": {
      "image/png": "[encoded data removed]",
      "text/plain": [
       "<Figure size 1200x400 with 2 Axes>"
      ]
     },
     "metadata": {},
     "output_type": "display_data"
    }
   ],
   "source": [
    "df_black = dd[dd['race']==0]\n",
    "df_black_old = df_black[df_black['agecat2']==1]\n",
    "df_white = dd[dd['race']==1]\n",
    "df_white_old = df_white[df_white['agecat2']==1]\n",
    "\n",
    "fig, (ax1, ax2) = plt.subplots(1, 2, figsize=(12, 4))\n",
    "\n",
    "# Plot for Black defendants\n",
    "ax1.hist(df_black_old['decile_score'], bins=10, color='b', alpha=0.7,rwidth=0.9)\n",
    "ax1.set_xlabel('Decile Score')\n",
    "ax1.set_ylabel('Count')\n",
    "ax1.set_title(\"Older Afro-American Defendant's Decile Scores\")\n",
    "ax1.set_ylim(0,700)\n",
    "\n",
    "# Plot for White defendants\n",
    "ax2.hist(df_white_old['decile_score'], bins=10, color='r', alpha=0.7,rwidth=0.9)\n",
    "ax2.set_xlabel('Decile Score')\n",
    "ax2.set_ylabel('Count')\n",
    "ax2.set_title(\"Older Caucasian Young Defendant's Decile Scores\")\n",
    "ax2.set_ylim(0,700)\n",
    "\n",
    "plt.tight_layout()\n",
    "plt.show()"
   ]
  },
  {
   "cell_type": "markdown",
   "metadata": {
    "id": "AWZWrjj5S71O"
   },
   "source": [
    "## 2. Réalisation d'un algorithme satisfaisant les deux critères"
   ]
  },
  {
   "cell_type": "markdown",
   "metadata": {
    "id": "HKe0NS5zah_U"
   },
   "source": [
    "Par ailleurs, la réponse de Northpointe reposait sur le fait qu'il n'est pas possible de satisfaire simultanément les critères de predictive parity et d'equality of odds. S'il est vrai qu'il n'est pas possible de les vérifier parfaitement, il est possible de les optimiser et de faire mieux que COMPAS ce que nous montrons dans cette partie."
   ]
  },
  {
   "cell_type": "markdown",
   "metadata": {
    "id": "8CfjAsAxTDh8"
   },
   "source": [
    "### 2.1. Reproduction de COMPAS par l'implémentation de XGBoost"
   ]
  },
  {
   "cell_type": "markdown",
   "metadata": {
    "id": "xDtuNzfaekT3"
   },
   "source": [
    "Dans cette partie, nous implémentons un modèle pour prédire le score avec XGBoost, nous essayerons de l'optimiser dans la partie suivante."
   ]
  },
  {
   "cell_type": "code",
   "execution_count": null,
   "metadata": {
    "id": "rx0jGmj9W155"
   },
   "outputs": [],
   "source": [
    "from sklearn.model_selection import train_test_split\n",
    "from sklearn.preprocessing import StandardScaler\n",
    "from sklearn.utils.class_weight import compute_class_weight"
   ]
  },
  {
   "cell_type": "code",
   "execution_count": null,
   "metadata": {
    "id": "n2zMEX3dWuj-"
   },
   "outputs": [],
   "source": [
    "def split_scale_pipe(X, y, Z, stratify, test_size=0.5, random_state=11):\n",
    "    (X_train, X_test, y_train, y_test,\n",
    "     Z_train, Z_test) = train_test_split(X, y, Z, test_size=test_size,\n",
    "                                         stratify=y, random_state=random_state)\n",
    "\n",
    "    # standardize the data\n",
    "    scaler = StandardScaler().fit(X_train)\n",
    "    scale_df = lambda df, scaler: pd.DataFrame(scaler.transform(df),\n",
    "                                               columns=df.columns, index=df.index)\n",
    "    X_train = X_train.pipe(scale_df, scaler)\n",
    "    X_test = X_test.pipe(scale_df, scaler)\n",
    "\n",
    "    return (X_train, X_test, y_train, y_test, Z_train, Z_test)"
   ]
  },
  {
   "cell_type": "code",
   "execution_count": null,
   "metadata": {
    "id": "XcnkjW-MZ9j8"
   },
   "outputs": [],
   "source": [
    "import statsmodels.api as sm\n",
    "import xgboost as xgb\n",
    "from sklearn.preprocessing import StandardScaler\n",
    "from sklearn.preprocessing import OrdinalEncoder\n",
    "\n",
    "def xgboost(dataset,thre,max_depth,sensitive_var='race',test_size=0.1):\n",
    "  X = dataset.drop(columns = ['score_factor','two_year_recid', 'decile_score','age_cat'])\n",
    "  Z = dataset.race\n",
    "  y = dataset.two_year_recid\n",
    "  n_features = X.shape[1]\n",
    "\n",
    "  NPCRITERIA1=[]\n",
    "  NPCRITERIA2=[]\n",
    "  PPCRITERIA1=[]\n",
    "  PPCRITERIA2=[]\n",
    "  RES=[]\n",
    "  SCORES=[]\n",
    "  RECID=[]\n",
    "  for i in range (0,50):\n",
    "    (X_train, X_test, y_train, y_test, Z_train, Z_test) = split_scale_pipe(X, y, Z, stratify=y,random_state=i,test_size=test_size)\n",
    "    X_train=pd.concat([X_train,dataset[dataset[sensitive_var]==1].drop(columns = ['score_factor','two_year_recid', 'decile_score','age_cat'])])\n",
    "    X_train[sensitive_var]=[0]*len(X_train)\n",
    "    X_test['two_year_recid']=y_test\n",
    "    X_test=X_test.drop_duplicates()\n",
    "    y_train=pd.concat([y_train,dataset[dataset[sensitive_var]==1].two_year_recid])\n",
    "    dtrain_reg = xgb.DMatrix(X_train, y_train, enable_categorical=True)\n",
    "    dtest_reg = xgb.DMatrix(X_test.drop(columns=['two_year_recid']), X_test['two_year_recid'], enable_categorical=True)\n",
    "    params = {\"objective\": \"reg:squarederror\", \"tree_method\": \"approx\",\"max_depth\":max_depth,\"subsample\":1,\"eta\":0.3}\n",
    "    n = 10\n",
    "    model = xgb.train(params=params,dtrain=dtrain_reg,num_boost_round=n)\n",
    "    preds = model.predict(dtest_reg)\n",
    "    threshold=thre\n",
    "    y_pred_bin = [1 if y >= threshold else 0 for y in preds]\n",
    "    dif=abs(np.array(y_pred_bin)-np.array(X_test['two_year_recid']))\n",
    "    RES.append(np.mean(dif))\n",
    "    X_test['score_factor']=y_pred_bin\n",
    "    NPCRITERIA1.append(npcriteria1uni(X_test)[0])\n",
    "    NPCRITERIA2.append(npcriteria2uni(X_test)[0])\n",
    "    PPCRITERIA1.append(ppcriteria1uni(X_test)[0])\n",
    "    PPCRITERIA2.append(ppcriteria2uni(X_test)[0])\n",
    "    preds2=preds\n",
    "    y_score=[int(10*x)+1 for x in preds2]\n",
    "    SCORES+=y_score\n",
    "    RECID+=list(X_test['two_year_recid'])\n",
    "  return(np.mean(RES),np.mean(NPCRITERIA1),np.mean(NPCRITERIA2),np.mean(PPCRITERIA1),np.mean(PPCRITERIA2),SCORES,RECID)"
   ]
  },
  {
   "cell_type": "markdown",
   "metadata": {
    "id": "5bEsqoxBez7s"
   },
   "source": [
    "Nous faisons un premier test pour voir si notre algorithme fonctionne."
   ]
  },
  {
   "cell_type": "code",
   "execution_count": null,
   "metadata": {
    "colab": {
     "base_uri": "https://localhost:8080/",
     "height": 512
    },
    "id": "bzpEwoXna_1r",
    "outputId": "ba2c136e-8c56-4da0-9c59-024450cda27a"
   },
   "outputs": [
    {
     "name": "stdout",
     "output_type": "stream",
     "text": [
      "African-Americans :\n",
      "Accuracy : 32.48%, NP criteria : 34.49%/69.30%, PP criteria : 35.50%/70.17%\n",
      "Accuracy : 1.26%, NP criteria : 2.39%/2.21%, PP criteria :2.55%/2.09%\n",
      "Caucasians :\n",
      "Accuracy : 33.76%, NP criteria : 32.42%/62.71%, PP criteria : 16.60%/40.92%\n",
      "Accuracy : 1.27%, NP criteria : 2.56%/3.30%, PP criteria :1.94%/3.65%\n"
     ]
    },
    {
     "data": {
      "image/png": "[encoded data removed]",
      "text/plain": [
       "<Figure size 1200x400 with 2 Axes>"
      ]
     },
     "metadata": {},
     "output_type": "display_data"
    }
   ],
   "source": [
    "res=xgboost(dd[dd['race']==0],max_depth=5,thre=0.5)\n",
    "errac=1.96*np.sqrt(res[0]*(1-res[0])/len(dd))\n",
    "nbblackrecid=len(dd[(dd['race']==0)&(dd['two_year_recid']==1)])\n",
    "errb2=1.96*np.sqrt(res[2]*(1-res[2])/nbblackrecid)\n",
    "nbblacknorecid=len(dd[(dd['race']==0)&(dd['two_year_recid']==0)])\n",
    "errb1=1.96*np.sqrt(res[1]*(1-res[1])/nbblacknorecid)\n",
    "nbblackrisk=len(dd[(dd['race']==0)&(dd['score_factor']==1)])\n",
    "errb4=1.96*np.sqrt(res[4]*(1-res[4])/nbblackrisk)\n",
    "nbblacknorisk=len(dd[(dd['race']==0)&(dd['score_factor']==0)])\n",
    "errb3=1.96*np.sqrt(res[3]*(1-res[3])/nbblacknorisk)\n",
    "print(\"African-Americans :\")\n",
    "print(\"Accuracy : \"+str(100*res[0])[0:5]+\"%, NP criteria : \"+str(100*res[1])[0:5]+\"%/\"+str(100*res[2])[0:5]+\"%, PP criteria : \"+str(100*res[3])[0:5]+\"%/\"+str(100*res[4])[0:5]+\"%\")\n",
    "print(\"Accuracy : \"+str(100*errac)[0:4]+\"%, NP criteria : \"+str(100*errb1)[0:4]+\"%/\"+str(100*errb2)[0:4]+\"%, PP criteria :\"+str(100*errb3)[0:4]+\"%/\"+str(100*errb4)[0:4]+\"%\")\n",
    "fig, (ax1, ax2) = plt.subplots(1, 2, figsize=(12, 4))\n",
    "ax1.hist(res[5]+[1], bins=10, color='b', alpha=0.7,rwidth=0.8)\n",
    "ax1.set_xlabel('Decile Score')\n",
    "ax1.set_ylabel('Count')\n",
    "ax1.set_title(\"Afro-American Defendant's Decile Scores\")\n",
    "ax1.set_ylim(0,3500)\n",
    "res2=xgboost(dd[dd['race']==1],max_depth=5,thre=0.5)\n",
    "errac=1.96*np.sqrt(res2[0]*(1-res2[0])/len(dd))\n",
    "nbwhiterecid=len(dd[(dd['race']==1)&(dd['two_year_recid']==1)])\n",
    "errb2=1.96*np.sqrt(res2[2]*(1-res2[2])/nbwhiterecid)\n",
    "nbwhitenorecid=len(dd[(dd['race']==1)&(dd['two_year_recid']==0)])\n",
    "errb1=1.96*np.sqrt(res2[1]*(1-res2[1])/nbwhitenorecid)\n",
    "nbwhiterisk=len(dd[(dd['race']==1)&(dd['score_factor']==1)])\n",
    "errb4=1.96*np.sqrt(res2[4]*(1-res2[4])/nbwhiterisk)\n",
    "nbwhitenorisk=len(dd[(dd['race']==1)&(dd['score_factor']==0)])\n",
    "errb3=1.96*np.sqrt(res2[3]*(1-res2[3])/nbwhitenorisk)\n",
    "print(\"Caucasians :\")\n",
    "print(\"Accuracy : \"+str(100*res2[0])[0:5]+\"%, NP criteria : \"+str(100*res2[1])[0:5]+\"%/\"+str(100*res2[2])[0:5]+\"%, PP criteria : \"+str(100*res2[3])[0:5]+\"%/\"+str(100*res2[4])[0:5]+\"%\")\n",
    "print(\"Accuracy : \"+str(100*errac)[0:4]+\"%, NP criteria : \"+str(100*errb1)[0:4]+\"%/\"+str(100*errb2)[0:4]+\"%, PP criteria :\"+str(100*errb3)[0:4]+\"%/\"+str(100*errb4)[0:4]+\"%\")\n",
    "ax2.hist(res2[5]+[10,1,2], bins=10, color='b', alpha=0.7,rwidth=0.8)\n",
    "ax2.set_xlabel('Decile Score')\n",
    "ax2.set_ylabel('Count')\n",
    "ax2.set_title(\"Caucasian Defendant's Decile Scores\")\n",
    "ax2.set_ylim(0,3500*len(res2[5])/len(res[5]))\n",
    "plt.show()"
   ]
  },
  {
   "cell_type": "markdown",
   "metadata": {
    "id": "p0Jom5_rbviB"
   },
   "source": [
    "Cette première version, basique, nous permet de respecter le critère de Northpointe directement. Mais le critère de ProPublica est largement non-respecté. On obtient donc des performances similaires à celles de l'algorithme de NorthPointe, en appliquant simplement un modèle de machine learning classique (XGBoost)."
   ]
  },
  {
   "cell_type": "markdown",
   "metadata": {
    "id": "wtQoB869URpT"
   },
   "source": [
    "### 2.2. Première optimisation"
   ]
  },
  {
   "cell_type": "markdown",
   "metadata": {
    "id": "gZCv_X2ffDwW"
   },
   "source": [
    "Essayons maintenant d'optimiser cet algorithme pour satisfaire les deux critères considérés (classifieurs séparés et seuils différents en fonction de l'origine ethnique)."
   ]
  },
  {
   "cell_type": "code",
   "execution_count": null,
   "metadata": {
    "colab": {
     "base_uri": "https://localhost:8080/",
     "height": 512
    },
    "id": "OseFShkZUAv6",
    "outputId": "249a2903-b437-4a84-a829-b3757922926e"
   },
   "outputs": [
    {
     "name": "stdout",
     "output_type": "stream",
     "text": [
      "African-Americans :\n",
      "Accuracy : 33.53%, NP criteria : 38.42%/73.06%, PP criteria :24.79%/58.82%\n",
      "Accuracy : 1.27%, NP criteria : 2.450%/2.133%, PP criteria :2.307%/2.255%\n",
      "Caucasians :\n",
      "Accuracy : 34.83%, NP criteria : 29.71%/57.23%, PP criteria : 27.88%/54.91%\n",
      "Accuracy : 1.28%, NP criteria : 2.50%/3.38%, PP criteria :2.34%/3.69%\n"
     ]
    },
    {
     "data": {
      "image/png": "[encoded data removed]",
      "text/plain": [
       "<Figure size 1200x400 with 2 Axes>"
      ]
     },
     "metadata": {},
     "output_type": "display_data"
    }
   ],
   "source": [
    "res=xgboost(dd[dd['race']==0],max_depth=5,thre=0.58)\n",
    "errac=1.96*np.sqrt(res[0]*(1-res[0])/len(dd))\n",
    "nbblackrecid=len(dd[(dd['race']==0)&(dd['two_year_recid']==1)])\n",
    "errb2=1.96*np.sqrt(res[2]*(1-res[2])/nbblackrecid)\n",
    "nbblacknorecid=len(dd[(dd['race']==0)&(dd['two_year_recid']==0)])\n",
    "errb1=1.96*np.sqrt(res[1]*(1-res[1])/nbblacknorecid)\n",
    "nbblackrisk=len(dd[(dd['race']==0)&(dd['score_factor']==1)])\n",
    "errb4=1.96*np.sqrt(res[4]*(1-res[4])/nbblackrisk)\n",
    "nbblacknorisk=len(dd[(dd['race']==0)&(dd['score_factor']==0)])\n",
    "errb3=1.96*np.sqrt(res[3]*(1-res[3])/nbblacknorisk)\n",
    "print(\"African-Americans :\")\n",
    "print(\"Accuracy : \"+str(100*res[0])[0:5]+\"%, NP criteria : \"+str(100*res[1])[0:5]+\"%/\"+str(100*res[2])[0:5]+\"%, PP criteria :\"+str(100*res[3])[0:5]+\"%/\"+str(100*res[4])[0:5]+\"%\")\n",
    "print(\"Accuracy : \"+str(100*errac)[0:4]+\"%, NP criteria : \"+str(100*errb1)[0:5]+\"%/\"+str(100*errb2)[0:5]+\"%, PP criteria :\"+str(100*errb3)[0:5]+\"%/\"+str(100*errb4)[0:5]+\"%\")\n",
    "fig, (ax1, ax2) = plt.subplots(1, 2, figsize=(12, 4))\n",
    "ax1.hist(res[5]+[1], bins=10, color='b', alpha=0.7,rwidth=0.8)\n",
    "ax1.set_xlabel('Decile Score')\n",
    "ax1.set_ylabel('Count')\n",
    "ax1.set_title(\"Afro-American Defendant's Decile Scores\")\n",
    "ax1.set_ylim(0,3500)\n",
    "res2=xgboost(dd[dd['race']==1],max_depth=5,thre=0.42)\n",
    "errac=1.96*np.sqrt(res2[0]*(1-res2[0])/len(dd))\n",
    "nbwhiterecid=len(dd[(dd['race']==1)&(dd['two_year_recid']==1)])\n",
    "errb2=1.96*np.sqrt(res2[2]*(1-res2[2])/nbwhiterecid)\n",
    "nbwhitenorecid=len(dd[(dd['race']==1)&(dd['two_year_recid']==0)])\n",
    "errb1=1.96*np.sqrt(res2[1]*(1-res2[1])/nbwhitenorecid)\n",
    "nbwhiterisk=len(dd[(dd['race']==1)&(dd['score_factor']==1)])\n",
    "errb4=1.96*np.sqrt(res2[4]*(1-res2[4])/nbwhiterisk)\n",
    "nbwhitenorisk=len(dd[(dd['race']==1)&(dd['score_factor']==0)])\n",
    "errb3=1.96*np.sqrt(res2[3]*(1-res2[3])/nbwhitenorisk)\n",
    "print(\"Caucasians :\")\n",
    "print(\"Accuracy : \"+str(100*res2[0])[0:5]+\"%, NP criteria : \"+str(100*res2[1])[0:5]+\"%/\"+str(100*res2[2])[0:5]+\"%, PP criteria : \"+str(100*res2[3])[0:5]+\"%/\"+str(100*res2[4])[0:5]+\"%\")\n",
    "print(\"Accuracy : \"+str(100*errac)[0:4]+\"%, NP criteria : \"+str(100*errb1)[0:4]+\"%/\"+str(100*errb2)[0:4]+\"%, PP criteria :\"+str(100*errb3)[0:4]+\"%/\"+str(100*errb4)[0:4]+\"%\")\n",
    "ax2.hist(res2[5]+[10,1,2], bins=10, color='b', alpha=0.7,rwidth=0.8)\n",
    "ax2.set_xlabel('Decile Score')\n",
    "ax2.set_ylabel('Count')\n",
    "ax2.set_title(\"Caucasian Defendant's Decile Scores\")\n",
    "ax2.set_ylim(0,3500*len(res2[5])/len(res[5]))\n",
    "plt.show()"
   ]
  },
  {
   "cell_type": "markdown",
   "metadata": {
    "id": "4wUF9ug2cYu-"
   },
   "source": [
    "Cette deuxième version repose sur le même algorithme que précédemment mais modifie les seuils de classification binaire. Par un tradeoff, on obtient que l'equality of odds est plus proche d'être respectée que dans COMPAS\n",
    "\n",
    "Au niveau de la predictive parity, les critères ne sont pas encore respectés, mais les différences en pourcentage sont moins importantes que celles enregistrées sur COMPAS."
   ]
  },
  {
   "cell_type": "markdown",
   "metadata": {
    "id": "HbEZLdQvUGrs"
   },
   "source": [
    "### 2.3. Deuxième optimisation"
   ]
  },
  {
   "cell_type": "markdown",
   "metadata": {
    "id": "m7cF2rdifk0s"
   },
   "source": [
    "Nous faisons un troisième test de XGBoost, avec des classifieurs séparés et un rééquilibrage des poids entre Afro-Américains et Caucasiens."
   ]
  },
  {
   "cell_type": "code",
   "execution_count": null,
   "metadata": {
    "id": "TGgUFTcAUhXd"
   },
   "outputs": [],
   "source": [
    "## On duplique des échantillons afin d'avoir un même ratio récidivants/non-récidivants parmi les Whites et les Blacks, conditionnellement à la catégorie d'âge\n",
    "\n",
    "condition = (dd['agecat2'] == 1) & (dd['two_year_recid'] == 1) & (dd['race']==1)\n",
    "rows_to_duplicate = dd[condition].head(520)\n",
    "ddc = pd.concat([dd, rows_to_duplicate], ignore_index=True)\n",
    "condition = (ddc['agecat2'] == 0) & (ddc['two_year_recid'] == 0) & (ddc['race']==0)\n",
    "rows_to_duplicate = ddc[condition].head(150)\n",
    "ddb = pd.concat([ddc, rows_to_duplicate], ignore_index=True)"
   ]
  },
  {
   "cell_type": "markdown",
   "metadata": {
    "id": "MgEfP0Gvcrg6"
   },
   "source": [
    "Les choix de 520 et 150 ont été réalisés de façon à obtenir un ratio récidivants/non-récidivants égal parmi les Caucasiens et les Afro-Américains, au sens général mais aussi conditionnellement à la catégorie d'âge. En effet, les régressions logistiques ont prouvé l'importance prépondérante de l'âge dans la détermination du risque.\n",
    "\n",
    "Cette manipulation concerne uniquement l'échantillon de train et non de test, car la fonction xgboost supprime les doublons dans l'ensemble de test. Ainsi les critères ne sont pas faussés par cette manipulation.\n"
   ]
  },
  {
   "cell_type": "code",
   "execution_count": null,
   "metadata": {
    "colab": {
     "base_uri": "https://localhost:8080/",
     "height": 512
    },
    "id": "Hn484lj5bIO-",
    "outputId": "6f634ced-345d-4dea-8999-3020837fe1e8"
   },
   "outputs": [
    {
     "name": "stdout",
     "output_type": "stream",
     "text": [
      "Afro-Americans :\n",
      "Accuracy : 67.15%, NP criteria : 35.02%/69.41%, PP criteria :31.99%/66.38%\n",
      "Erracc  : 1.26%, NP  errors : 2.40%/2.21%, PP  errors :2.49%/2.16%\n",
      "Caucasians :\n",
      "Accuracy : 63.63%, NP criteria : 37.98%/65.45%, PP criteria : 35.10%/62.44%\n",
      "Erracc  : 1.29%, NP  errors : 2.65%/3.25%, PP  errors :2.49%/3.59%\n"
     ]
    },
    {
     "data": {
      "image/png": "[encoded data removed]",
      "text/plain": [
       "<Figure size 1200x400 with 2 Axes>"
      ]
     },
     "metadata": {},
     "output_type": "display_data"
    }
   ],
   "source": [
    "#entraînement du modèle XGBoost pour les Blacks\n",
    "res=xgboost(ddb[ddb['race']==0],max_depth=5,thre=0.5)\n",
    "errac=1.96*np.sqrt(res[0]*(1-res[0])/len(dd))\n",
    "nbblackrecid=len(dd[(dd['race']==0)&(dd['two_year_recid']==1)])\n",
    "errb2=1.96*np.sqrt(res[2]*(1-res[2])/nbblackrecid)\n",
    "nbblacknorecid=len(dd[(dd['race']==0)&(dd['two_year_recid']==0)])\n",
    "errb1=1.96*np.sqrt(res[1]*(1-res[1])/nbblacknorecid)\n",
    "nbblackrisk=len(dd[(dd['race']==0)&(dd['score_factor']==1)])\n",
    "errb4=1.96*np.sqrt(res[4]*(1-res[4])/nbblackrisk)\n",
    "nbblacknorisk=len(dd[(dd['race']==0)&(dd['score_factor']==0)])\n",
    "errb3=1.96*np.sqrt(res[3]*(1-res[3])/nbblacknorisk)\n",
    "\n",
    "#Critères de fairness\n",
    "print(\"Afro-Americans :\")\n",
    "print(\"Accuracy : \"+str(100*(1-res[0]))[0:5]+\"%, NP criteria : \"+str(100*res[1])[0:5]+\"%/\"+str(100*res[2])[0:5]+\"%, PP criteria :\"+str(100*res[3])[0:5]+\"%/\"+str(100*res[4])[0:5]+\"%\")\n",
    "print(\"Erracc  : \"+str(100*errac)[0:4]+\"%, NP  errors : \"+str(100*errb1)[0:4]+\"%/\"+str(100*errb2)[0:4]+\"%, PP  errors :\"+str(100*errb3)[0:4]+\"%/\"+str(100*errb4)[0:4]+\"%\")\n",
    "\n",
    "#Tracé des distributions de scores\n",
    "fig, (ax1, ax2) = plt.subplots(1, 2, figsize=(12, 4))\n",
    "ax1.hist(res[5]+[1], bins=10, color='b', alpha=0.7,rwidth=0.8)\n",
    "ax1.set_xlabel('Decile Score')\n",
    "ax1.set_ylabel('Count')\n",
    "ax1.set_title(\"Afro-American Defendant's Decile Scores\")\n",
    "ax1.set_ylim(0,3000)\n",
    "\n",
    "#entraînement du modèle XGBoost pour les Whites\n",
    "res2=xgboost(ddb[ddb['race']==1],max_depth=5,thre=0.5)\n",
    "errac=1.96*np.sqrt(res2[0]*(1-res2[0])/len(dd))\n",
    "nbwhiterecid=len(dd[(dd['race']==1)&(dd['two_year_recid']==1)])\n",
    "errb2=1.96*np.sqrt(res2[2]*(1-res2[2])/nbwhiterecid)\n",
    "nbwhitenorecid=len(dd[(dd['race']==1)&(dd['two_year_recid']==0)])\n",
    "errb1=1.96*np.sqrt(res2[1]*(1-res2[1])/nbwhitenorecid)\n",
    "nbwhiterisk=len(dd[(dd['race']==1)&(dd['score_factor']==1)])\n",
    "errb4=1.96*np.sqrt(res2[4]*(1-res2[4])/nbwhiterisk)\n",
    "nbwhitenorisk=len(dd[(dd['race']==1)&(dd['score_factor']==0)])\n",
    "errb3=1.96*np.sqrt(res2[3]*(1-res2[3])/nbwhitenorisk)\n",
    "#Critères de fairness\n",
    "print(\"Caucasians :\")\n",
    "print(\"Accuracy : \"+str(100*(1-res2[0]))[0:5]+\"%, NP criteria : \"+str(100*res2[1])[0:5]+\"%/\"+str(100*res2[2])[0:5]+\"%, PP criteria : \"+str(100*res2[3])[0:5]+\"%/\"+str(100*res2[4])[0:5]+\"%\")\n",
    "print(\"Erracc  : \"+str(100*errac)[0:4]+\"%, NP  errors : \"+str(100*errb1)[0:4]+\"%/\"+str(100*errb2)[0:4]+\"%, PP  errors :\"+str(100*errb3)[0:4]+\"%/\"+str(100*errb4)[0:4]+\"%\")\n",
    "\n",
    "#Tracé des distributions de scores\n",
    "ax2.hist(res2[5]+[10,1,2], bins=10, color='b', alpha=0.7,rwidth=0.8)\n",
    "ax2.set_xlabel('Decile Score')\n",
    "ax2.set_ylabel('Count')\n",
    "ax2.set_title(\"Caucasian Defendant's Decile Scores\")\n",
    "ax2.set_ylim(0,3500*len(res2[5])/len(res[5]))\n",
    "plt.show()"
   ]
  },
  {
   "cell_type": "markdown",
   "metadata": {
    "id": "K39eWBDWdCNh"
   },
   "source": [
    "Avec cette méthode, les deux critères sont respectés : celui de ProPublica et celui de Northpointe (intervalles de confiance se chevauchant), sans biais net envers une communauté. L'accuracy moyenne est de plus de 65%, ce qui constitue une performance similaire à celle de COMPAS.\n"
   ]
  },
  {
   "cell_type": "code",
   "execution_count": null,
   "metadata": {
    "colab": {
     "base_uri": "https://localhost:8080/",
     "height": 803
    },
    "id": "Tgd5dCjwbjEv",
    "outputId": "06144682-7e76-44d2-cdf9-8931f32d3831"
   },
   "outputs": [
    {
     "data": {
      "image/png": "[encoded data removed]",
      "text/plain": [
       "<Figure size 1200x400 with 2 Axes>"
      ]
     },
     "metadata": {},
     "output_type": "display_data"
    },
    {
     "data": {
      "image/png": "[encoded data removed]",
      "text/plain": [
       "<Figure size 1200x400 with 2 Axes>"
      ]
     },
     "metadata": {},
     "output_type": "display_data"
    }
   ],
   "source": [
    "hist_norecid_b=[res[5][i] for i in np.where(np.array(res[6]) == 0)[0]]\n",
    "hist_recid_b=[res[5][i] for i in np.where(np.array(res[6]) == 1)[0]]\n",
    "hist_norecid_w=[res2[5][i] for i in np.where(np.array(res2[6]) == 0)[0]]\n",
    "hist_recid_w=[res2[5][i] for i in np.where(np.array(res2[6]) == 1)[0]]\n",
    "\n",
    "fig, (ax1, ax2) = plt.subplots(1, 2, figsize=(12, 4))\n",
    "ax1.hist(hist_recid_b, bins=10, color='b', alpha=0.7,rwidth=0.8)\n",
    "ax1.set_xlabel('Decile Score')\n",
    "ax1.set_ylabel('Count')\n",
    "ax1.set_title(\"Afro-American Recidivant's Decile Scores\")\n",
    "ax1.set_ylim(0,1900)\n",
    "\n",
    "ax2.hist(hist_recid_w, bins=10, color='b', alpha=0.7,rwidth=0.8)\n",
    "ax2.set_xlabel('Decile Score')\n",
    "ax2.set_ylabel('Count')\n",
    "ax2.set_title(\"Caucasian Recidivant's Decile Scores\")\n",
    "ax2.set_ylim(0,1900*len(hist_recid_w)/len(hist_norecid_b))\n",
    "plt.show()\n",
    "\n",
    "fig, (ax1, ax2) = plt.subplots(1, 2, figsize=(12, 4))\n",
    "ax1.hist(hist_norecid_b, bins=10, color='b', alpha=0.7,rwidth=0.8)\n",
    "ax1.set_xlabel('Decile Score')\n",
    "ax1.set_ylabel('Count')\n",
    "ax1.set_title(\"Afro-American Non-Recidivant's Decile Scores\")\n",
    "ax1.set_ylim(0,2000)\n",
    "\n",
    "ax2.hist(hist_norecid_w, bins=10, color='b', alpha=0.7,rwidth=0.8)\n",
    "ax2.set_xlabel('Decile Score')\n",
    "ax2.set_ylabel('Count')\n",
    "ax2.set_title(\"Caucasian Non-Recidivant's Decile Scores\")\n",
    "ax2.set_ylim(0,2000*len(hist_norecid_w)/len(hist_norecid_b))\n",
    "plt.show()"
   ]
  },
  {
   "cell_type": "markdown",
   "metadata": {
    "id": "aNpshEO6duv5"
   },
   "source": [
    "Les distributions conditionnelles sont bien plus similaires et ne présentent pas de biais évidents envers une communauté plutôt qu'une autre. On notera que la différence parmi les récidivants, avec plus de hauts scores parmi les Afro-Américains, est liée à un taux crimes/délits plus important."
   ]
  },
  {
   "cell_type": "code",
   "execution_count": null,
   "metadata": {
    "colab": {
     "base_uri": "https://localhost:8080/",
     "height": 453
    },
    "id": "Oqdzb9EHHkqm",
    "outputId": "972fd681-995c-489d-a733-3f4c94304b20"
   },
   "outputs": [
    {
     "data": {
      "image/png": "[encoded data removed]",
      "text/plain": [
       "<Figure size 640x480 with 1 Axes>"
      ]
     },
     "metadata": {},
     "output_type": "display_data"
    }
   ],
   "source": [
    "VAL=[]\n",
    "INCER=[]\n",
    "for i in range (1,11):\n",
    "  indices=np.where(np.array(res[5])==i)[0]\n",
    "  recid=[res[6][i] for i in indices]\n",
    "  val=np.mean(recid)\n",
    "  incer=1.96*np.sqrt(val*(1-val)/len(recid))\n",
    "  VAL.append(val)\n",
    "  INCER.append(incer)\n",
    "plt.plot(np.arange(1,11,1),VAL,label=\"Afro-Americans\")\n",
    "plt.fill_between(np.arange(1,11,1),np.array(VAL)-np.array(INCER),np.array(VAL)+np.array(INCER),alpha=0.2,color=\"blue\")\n",
    "VAL=[]\n",
    "INCER=[]\n",
    "for i in range (1,11):\n",
    "  indices=np.where(np.array(res2[5])==i)[0]\n",
    "  recid=[res2[6][i] for i in indices]\n",
    "  val=np.mean(recid)\n",
    "  incer=1.96*np.sqrt(val*(1-val)/len(recid))\n",
    "  VAL.append(val)\n",
    "  INCER.append(incer)\n",
    "plt.plot(np.arange(1,11,1),VAL,label=\"Caucasians\")\n",
    "plt.fill_between(np.arange(1,11,1),np.array(VAL)-np.array(INCER),np.array(VAL)+np.array(INCER),alpha=0.4,color=\"orange\")\n",
    "plt.legend()\n",
    "plt.xlim(2,10)\n",
    "plt.ylim(0,1)\n",
    "plt.title(label=\"Probabilité de récidiver en fonction du score de risque\")\n",
    "plt.show()"
   ]
  },
  {
   "cell_type": "markdown",
   "metadata": {
    "id": "56yIoASVfVa5"
   },
   "source": [
    "Les probabilité de récidiver en fonction du score sont très proches et les intervalles de confiance se chevauchent, ce qui permet de valider le critère de Northpointe à une échelle plus fine."
   ]
  },
  {
   "cell_type": "code",
   "execution_count": null,
   "metadata": {
    "colab": {
     "base_uri": "https://localhost:8080/"
    },
    "id": "lI1-wAx7erTj",
    "outputId": "beec91a8-9d79-41d2-c21f-bdc0bd76e73b"
   },
   "outputs": [
    {
     "name": "stdout",
     "output_type": "stream",
     "text": [
      "Disparate impact réel : 1.34\n",
      "Disparate impact algorithmique : 1.74\n",
      "Disparate impact nouvel algorithme : 1.12\n"
     ]
    }
   ],
   "source": [
    "df_black = dd[dd['race'] == 0]\n",
    "df_white=dd[dd['race']==1]\n",
    "dispimpact=(np.sum(df_black['two_year_recid'])/len(df_black['two_year_recid']))/(np.sum(df_white['two_year_recid'])/len(df_white['two_year_recid']))\n",
    "dispimpactalgo=(np.sum(df_black['score_factor'])/len(df_black['score_factor']))/(np.sum(df_white['score_factor'])/len(df_white['score_factor']))\n",
    "\n",
    "print(\"Disparate impact réel : {:.2f}\".format(dispimpact))\n",
    "print(\"Disparate impact algorithmique : {:.2f}\".format(dispimpactalgo))\n",
    "\n",
    "score_w=[a>=5 for a in res[5]]\n",
    "score_b=[a>=5 for a in res2[5]]\n",
    "dispimpactalgo=np.mean(score_b)/np.mean(score_w)\n",
    "\n",
    "print(\"Disparate impact nouvel algorithme : {:.2f}\".format(dispimpactalgo))\n"
   ]
  },
  {
   "cell_type": "markdown",
   "metadata": {
    "id": "8qH9NL5rdeS3"
   },
   "source": [
    "On constate que le disparate impact de notre nouvel algorithme est plus proche de la réalité que le disparate impact de COMPAS."
   ]
  },
  {
   "cell_type": "markdown",
   "metadata": {
    "id": "k5LLh3w9hovO"
   },
   "source": [
    "### 2.4. Conclusion"
   ]
  },
  {
   "cell_type": "markdown",
   "metadata": {
    "id": "DPrAgUYuhFff"
   },
   "source": [
    "\n",
    "La réalisation d'un algorithme avec XGBoost, basé sur un rééquilibrage des poids, prouve que la satisfaction combinée des critères de ProPublica et NorthPointe est possible. Il est important de noter que notre algorithme démontre une accuracy similaire, et performe également mieux sur le critère du disparate impact que COMPAS\n",
    "\n",
    "Les critères de disparate impact, predictive parity, et equality of odds sont 3 critères qui ne peuvent pas être satisfaits exactement en même temps. (Voir \"Fairness Metrics : A comparative analysis\", P. Garg et al.). Cependant, il est du devoir de Northpointe de les satisfaire au mieux. Notre algorithme obtient un meilleur score pour chacun de ces 3 critères avec des outils relativement élémentaires disponibles à l'époque du développement de COMPAS. Cela montre donc que le biais était largement évitable.\n",
    "\n",
    "La méthode de rééquilibrage, réalisée de façon spécifique dans notre cas, peut être étendue à d'autres cas de figure, ce qui dépasse la visée de cette étude. Des méthodes de Deep Learning, basée sur l'optimisation combinée d'une loss classique et d'une \"Fair Loss\", pourraient également être exploitées.\n"
   ]
  },
  {
   "cell_type": "markdown",
   "metadata": {
    "id": "DlDiqnzSbhf-"
   },
   "source": [
    "## 3. Questionnement éthique et juridique"
   ]
  },
  {
   "cell_type": "markdown",
   "metadata": {
    "id": "fGHsKU-tiAck"
   },
   "source": [
    "Terminons cette plaidoirie par une réflexion éthique sur l'utilisation de ce genre d'algorithmes dans le système judiciaire.\n",
    "\n",
    "L'utilisation d'algorithmes tels que COMPAS dans le système judiciaire soulève des préoccupations fondamentales. Tout d'abord, et c'est ce que nous avons montré précédemment, ce type d'algorithmes peut amplifier des inégalités déjà présentes. Les données historiques utilisées pour entraîner ces algorithmes peuvent refléter des discriminations systémiques existantes, introduisant ainsi des préjugés dans les prédictions futures. Cela perpétue et amplifie les inégalités présentes dans le système judiciaire, ce qui est le cas avec COMPAS et les Afro-Américains.\n",
    "\n",
    "Par ailleurs, l'opacité qui entoure les mécanismes internes de ces algorithmes, détenus par des entreprises privées, est particulièrement problématique car elle crée un voile de mystère autour de décisions qui affectent directement la vie des individus. Cette absence de transparence compromet le principe fondamental de la justice selon lequel les personnes devraient comprendre les motifs et les critères qui influent sur les décisions qui les concernent. Ainsi, l'utilisation d'algorithmes comme COMPAS peut compromettre le droit à un procès équitable. Les individus sont confrontés à des décisions algorithmiques souvent complexes sans avoir une compréhension adéquate de la logique derrière ces choix. Cela peut entraver leur capacité à contester efficacement les résultats et à faire valoir leurs droits devant la justice.\n",
    "\n",
    "En résumé, l'utilisation de tels algorithmes dans le système judiciaire présente des risques sérieux en termes de transparence, de perpétuation des inégalités et de respect des droits individuels. Au-delà de considérations générales, dans le contexte spécifique de COMPAS, comment peut-on défendre l'utilisation d'un algorithme présentant une faible précision et des biais évidents contre une minorité ? Il semble clair que COMPAS n'a pas sa place dans le système judiciaire\n",
    "\n",
    "\n"
   ]
  },
  {
   "cell_type": "code",
   "execution_count": null,
   "metadata": {
    "id": "oEd4Umv2agIm"
   },
   "outputs": [],
   "source": []
  }
 ],
 "metadata": {
  "colab": {
   "collapsed_sections": [
    "mqjAS0mKKtfm",
    "1GesG8wDSMc5",
    "D6L1LMi0SsbB",
    "4CfXFyAZScNa",
    "dSEJ4YOWaRSH",
    "rusO7H6zaU-U",
    "0GNR_tn3Snmn",
    "8WhZXo-3RB0R",
    "NaN4qw4yTq5R",
    "XDySNXB6afOI",
    "d9TAmb4eT71q",
    "tLoT4ZpPWuXp",
    "n1n7rb3UW2ll",
    "WWorC0eRW7Uy",
    "AWZWrjj5S71O",
    "8CfjAsAxTDh8",
    "wtQoB869URpT",
    "HbEZLdQvUGrs",
    "k5LLh3w9hovO",
    "DlDiqnzSbhf-"
   ],
   "provenance": []
  },
  "kernelspec": {
   "display_name": "Python 3",
   "language": "python",
   "name": "python3"
  },
  "language_info": {
   "codemirror_mode": {
    "name": "ipython",
    "version": 3
   },
   "file_extension": ".py",
   "mimetype": "text/x-python",
   "name": "python",
   "nbconvert_exporter": "python",
   "pygments_lexer": "ipython3",
   "version": "3.8.3"
  }
 },
 "nbformat": 4,
 "nbformat_minor": 1
}
